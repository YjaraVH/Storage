{
 "cells": [
  {
   "cell_type": "code",
   "execution_count": 1,
   "metadata": {},
   "outputs": [],
   "source": [
    "# Imports\n",
    "import re"
   ]
  },
  {
   "cell_type": "markdown",
   "metadata": {},
   "source": [
    "Functions"
   ]
  },
  {
   "cell_type": "code",
   "execution_count": 2,
   "metadata": {},
   "outputs": [],
   "source": [
    "# Checks\n",
    "sequence = 'ATGGATG'\n",
    "rna_sequence = 'RKDKKKDR'"
   ]
  },
  {
   "cell_type": "code",
   "execution_count": 8,
   "metadata": {},
   "outputs": [],
   "source": [
    "confirm = re.compile('[^ATGC]')"
   ]
  },
  {
   "cell_type": "code",
   "execution_count": 11,
   "metadata": {},
   "outputs": [],
   "source": [
    "# DNA\n",
    "def is_dna(sequence):\n",
    "    confirm = re.compile('[^ATGC]')\n",
    "    return True if confirm.search(sequence.upper()) == None else False\n",
    "\n",
    "# RNA\n",
    "def is_rna(sequence):\n",
    "    confirm = re.compile('[^A-Z]')\n",
    "    return True if confirm.search(sequence.upper()) == None else False\n",
    "\n",
    "# Protein\n",
    "def is_protein(sequence):\n",
    "    confirm = re.search(r\"[BJOUX|0-9]\", sequence.upper())\n",
    "    return True if confirm.search(sequence.upper()) == None else False\n",
    "\n",
    "# Charge\n",
    "def protein_charge(rna_sequence):\n",
    "    rna_sequence = rna_sequence.upper()\n",
    "    return (rna_sequence.count('R') + rna_sequence.count('K')) - (rna_sequence.count('D') + rna_sequence.count('E'))\n",
    "\n",
    "# Restriction_enzyme\n",
    "def check_restriction_enzyme(restriction_site, sequence):\n",
    "    if restriction_site in sequence:\n",
    "        print(\"REase at position %3d\", sequence.find(restriction_site))\n",
    "        return True\n",
    "    else:\n",
    "        return False\n",
    "    \n",
    "# GC content\n",
    "def perc_gc_content(sequence):\n",
    "    sequence = sequence.upper()\n",
    "    #print(format((sequence.count(\"G\") + sequence.count(\"C\")) / 100, \",.2f\"), \"%\",sep=\"\")\n",
    "    return format((sequence.count(\"G\") + sequence.count(\"C\")) / 100, \",.2f\")\n",
    "\n",
    "# DNA to protein\n",
    "def dna_to_protein(sequence):\n",
    "    sequence = sequence.lower()\n",
    "    code = {'ttt': 'F', 'tct': 'S', 'tat': 'Y', 'tgt': 'C',\n",
    "            'ttc': 'F', 'tcc': 'S', 'tac': 'Y', 'tgc': 'C',\n",
    "            'tta': 'L', 'tca': 'S', 'taa': '*', 'tga': '*',\n",
    "            'ttg': 'L', 'tcg': 'S', 'tag': '*', 'tgg': 'W',\n",
    "            'ctt': 'L', 'cct': 'P', 'cat': 'H', 'cgt': 'R',\n",
    "            'ctc': 'L', 'ccc': 'P', 'cac': 'H', 'cgc': 'R',\n",
    "            'cta': 'L', 'cca': 'P', 'caa': 'Q', 'cga': 'R',\n",
    "            'ctg': 'L', 'ccg': 'P', 'cag': 'Q', 'cgg': 'R',\n",
    "            'att': 'I', 'act': 'T', 'aat': 'N', 'agt': 'S',\n",
    "            'atc': 'I', 'acc': 'T', 'aac': 'N', 'agc': 'S',\n",
    "            'ata': 'I', 'aca': 'T', 'aaa': 'K', 'aga': 'R',\n",
    "            'atg': 'M', 'acg': 'T', 'aag': 'K', 'agg': 'R',\n",
    "            'gtt': 'V', 'gct': 'A', 'gat': 'D', 'ggt': 'G',\n",
    "            'gtc': 'V', 'gcc': 'A', 'gac': 'D', 'ggc': 'G',\n",
    "            'gta': 'V', 'gca': 'A', 'gaa': 'E', 'gga': 'G',\n",
    "            'gtg': 'V', 'gcg': 'A', 'gag': 'E', 'ggg': 'G'\n",
    "            }\n",
    "    amino = []\n",
    "    for index in range(0, len(sequence), 3):\n",
    "        amino.append(sequence[index:index+3])\n",
    "    return ''.join(amino)"
   ]
  },
  {
   "cell_type": "code",
   "execution_count": 10,
   "metadata": {},
   "outputs": [
    {
     "name": "stdout",
     "output_type": "stream",
     "text": [
      "4\n",
      "True\n",
      "True\n"
     ]
    }
   ],
   "source": [
    "print(protein_charge(rna_sequence))\n",
    "print(is_dna(sequence))\n",
    "print(is_rna(sequence))"
   ]
  },
  {
   "cell_type": "markdown",
   "metadata": {},
   "source": [
    "## Open files"
   ]
  },
  {
   "cell_type": "code",
   "execution_count": 122,
   "metadata": {},
   "outputs": [],
   "source": [
    "# Opens gff3 file and returns list of info\n",
    "def open_gff3(filename=\"Caenorhabditis_elegans.gff3\"):\n",
    "    with open(filename, \"r\") as gff_file:\n",
    "        info = []\n",
    "        file = gff_file.readlines()\n",
    "        for line in file:\n",
    "            info.append(line.split(\"\\t\"))\n",
    "    return info\n",
    "\n",
    "# Opens fasta file and returns 3 list (headers, sequenctie, names)\n",
    "def open_fasta(filename=\"Caenorhabditis_elegans.cds_pep.all.fa\"):\n",
    "    with open(filename, \"r\") as fasta_file:\n",
    "        headers = []\n",
    "        seq = []\n",
    "        lines = []\n",
    "        bestand = fasta_file.readlines()\n",
    "        names = []\n",
    "        for line in bestand:\n",
    "            if line[0] == \">\" and headers == []:\n",
    "                headers.append(line)\n",
    "                regel = line.strip(\">\").split(\" \")\n",
    "                names.append(regel[0])\n",
    "            elif line[0] == \">\":\n",
    "                seq.append(\"\".join(lines).strip(\"\\n\"))\n",
    "                headers.append(line)\n",
    "                regel = line.strip(\">\").split(\" \")\n",
    "                names.append(regel[0])\n",
    "                lines = []\n",
    "            else:\n",
    "                lines.append(line)\n",
    "        seq.append(\"\".join(lines))\n",
    "    return headers, seq, names\n",
    "\n",
    "# Opens expression file (type csv) returns list with gen ID's and their gen expression?\n",
    "def open_expressionfile_csv(filename=\"bestanden/SC_expression.csv\"):\n",
    "    with open(filename, 'r') as file:\n",
    "        lijst = file.readlines()\n",
    "        gen_expression = []\n",
    "        gen_id = []\n",
    "        lijst.pop(0)\n",
    "        for line in lijst:\n",
    "            line = line.split(\",\")\n",
    "            gen_expression.append(float(line[1]))\n",
    "            gen_id.append(line[0])\n",
    "    return(gen_expression, gen_id)\n",
    "\n",
    "# Open aligment xml\n",
    "def open_aligment_xml(filename=\"Alignment.xml\"):\n",
    "    with open(filename,'r') as results:\n",
    "        result = open(filename, \"r\")\n",
    "        records = NCBIXML.parse(result)\n",
    "        item = next(records)\n",
    "        for alignment in item.alignments:\n",
    "            for hsp in alignment.hsps:\n",
    "                if hsp.expect < 0.00001:\n",
    "                    print('\\n****HIT****')\n",
    "                    print('sequence:', alignment.title)\n",
    "                    print('e value:', hsp.expect)\n",
    "                    print('score:', hsp.score)\n",
    "                    print('ident_num:',hsp.identities)\n",
    "                    print('definition:',alignment.hit_def)\n",
    "                    print('id:',alignment.hit_id)\n",
    "                    print('Accession:',alignment.accession)"
   ]
  },
  {
   "cell_type": "code",
   "execution_count": 69,
   "metadata": {},
   "outputs": [],
   "source": [
    "from matplotlib.ticker import MaxNLocator\n",
    "import matplotlib.pyplot as plt\n",
    "import numpy as np\n",
    "\n",
    "# Codon dict, count codon bias, count amino acids\n",
    "def get_codons_from_dna():\n",
    "   return {'ttt': 'F', 'tct': 'S', 'tat': 'Y', 'tgt': 'C',\n",
    "                  'ttc': 'F', 'tcc': 'S', 'tac': 'Y', 'tgc': 'C',\n",
    "                  'tta': 'L', 'tca': 'S', 'taa': 'X', 'tga': 'X',\n",
    "                  'ttg': 'L', 'tcg': 'S', 'tag': 'X', 'tgg': 'W',\n",
    "                  'ctt': 'L', 'cct': 'P', 'cat': 'H', 'cgt': 'R',\n",
    "                  'ctc': 'L', 'ccc': 'P', 'cac': 'H', 'cgc': 'R',\n",
    "                  'cta': 'L', 'cca': 'P', 'caa': 'Q', 'cga': 'R',\n",
    "                  'ctg': 'L', 'ccg': 'P', 'cag': 'Q', 'cgg': 'R',\n",
    "                  'att': 'I', 'act': 'T', 'aat': 'N', 'agt': 'S',\n",
    "                  'atc': 'I', 'acc': 'T', 'aac': 'N', 'agc': 'S',\n",
    "                  'ata': 'I', 'aca': 'T', 'aaa': 'K', 'aga': 'R',\n",
    "                  'atg': 'M', 'acg': 'T', 'aag': 'K', 'agg': 'R',\n",
    "                  'gtt': 'V', 'gct': 'A', 'gat': 'D', 'ggt': 'G',\n",
    "                  'gtc': 'V', 'gcc': 'A', 'gac': 'D', 'ggc': 'G',\n",
    "                  'gta': 'V', 'gca': 'A', 'gaa': 'E', 'gga': 'G',\n",
    "                  'gtg': 'V', 'gcg': 'A', 'gag': 'E', 'ggg': 'G',\n",
    "                  }\n",
    "\n",
    "def count_codons(sequence):\n",
    "    sequence = sequence.lower()\n",
    "    codon_code_count = dict(ttt=0, tct=0, tat=0, tgt=0, ttc=0, tcc=0,\n",
    "                            tac=0, tgc=0, tta=0, tca=0, taa=0, tga=0,\n",
    "                            ttg=0, tcg=0, tag=0, tgg=0, ctt=0, cct=0,\n",
    "                            cat=0, cgt=0, ctc=0, ccc=0, cac=0, cgc=0,\n",
    "                            cta=0, cca=0, caa=0, cga=0, ctg=0, ccg=0,\n",
    "                            cag=0, cgg=0, att=0, act=0, aat=0, agt=0,\n",
    "                            atc=0, acc=0, aac=0, ata=0, agc=0, aca=0,\n",
    "                            aaa=0, aga=0, atg=0, acg=0, aag=0, agg=0,\n",
    "                            gtt=0, gct=0, gat=0, ggt=0, gtc=0, gcc=0,\n",
    "                            gac=0, ggc=0, gta=0, gca=0, gaa=0, gga=0,\n",
    "                            gtg=0, gcg=0, gag=0, ggg=0,\n",
    "                            )\n",
    "    for index in range(0, len(sequence), 3):\n",
    "        codon_code_count[sequence[index:index+3]] += 1\n",
    "    return codon_code_count\n",
    "    \n",
    "def count_amino_acids(sequence):\n",
    "    sequence = sequence.lower()\n",
    "    codons = get_codons_from_dna()\n",
    "    amino_acid_count = dict(F=0, L=0, I=0, M=0, V=0, S=0, P=0, T=0, A=0,\n",
    "                            Y=0, X=0, H=0, Q=0, N=0, K=0, D=0, E=0, C=0,\n",
    "                            W=0, R=0, G=0,\n",
    "                            )\n",
    "    for index in range(0, len(sequence), 3):\n",
    "        amino_acid_count[codons[sequence[index:index+3]]] += 1\n",
    "    return amino_acid_count\n",
    "\n",
    "# visualise count/bias\n",
    "from Bio.Blast import NCBIXML\n",
    "def graph_count(value, counts, label_x = \"codons\"):\n",
    "    plt.figure(num=1, figsize=(15, 10))\n",
    "    plt.bar(value, counts, color=\"darkgreen\")\n",
    "    plt.ylabel(\"total\")\n",
    "    plt.xlabel(label_x)\n",
    "    plt.xticks(rotation=90, fontsize=12)\n",
    "    plt.yticks(np.arange(0, max(counts)+1, 1)) \n",
    "    plt.title(\"Counts per \"+label_x)\n",
    "    plt.show()"
   ]
  },
  {
   "cell_type": "code",
   "execution_count": 13,
   "metadata": {},
   "outputs": [],
   "source": [
    "# Biopython\n",
    "from Bio.Seq import Seq\n",
    "from Bio.Blast import NCBIWWW, NCBIXML\n",
    "\n",
    "def transcribe(sequence):\n",
    "    seq = Seq(sequence)\n",
    "    return seq.transcribe()\n",
    "\n",
    "def translate(sequence):\n",
    "    seq = Seq(sequence)\n",
    "    return seq.translate()\n",
    "\n",
    "def transcribe_and_translate(sequence):\n",
    "    seq = Seq(sequence)\n",
    "    return seq.transcribe().translate()\n",
    "\n",
    "def blast(sequence): #nog checken\n",
    "    result_handle = NCBIWWW.qblast(\"blastp\", \"nr\", str(sequence))\n",
    "    blast_record = NCBIXML.read(result_handle)\n",
    "    alignment = blast_record.alignments\n",
    "    regels = str(alignment[0].title).replace(\">\", \"|\").split(\"|\")\n",
    "    regel = regels[2].split(\"[\")\n",
    "    protein = regel[0]\n",
    "    zin = \"The protein:\" + str(protein)"
   ]
  },
  {
   "cell_type": "code",
   "execution_count": 16,
   "metadata": {},
   "outputs": [],
   "source": [
    "import mysql.connector\n",
    "\n",
    "conn = mysql.connector.connect(\n",
    "    host=\"ensembldb.ensembl.org\",\n",
    "    user=\"anonymous\",\n",
    "    database=\"homo_sapiens_core_95_38\"\n",
    ")\n",
    "\n",
    "def search(search_word=\"kinase\"):\n",
    "    cursor = conn.cursor()\n",
    "    cursor.execute('''select description from gene where description like '%{}%\\'limit 10'''.format(search_word))\n",
    "    row = cursor.fetchall()\n",
    "    regels = []\n",
    "    for item in list(row):\n",
    "        regel = str(item).strip(\"'()''\")\n",
    "        regels.append(regel[0:len(regel)-2])\n",
    "    return regels"
   ]
  },
  {
   "cell_type": "code",
   "execution_count": 17,
   "metadata": {},
   "outputs": [
    {
     "data": {
      "text/plain": [
       "['FGR proto-oncogene, Src family tyrosine kinase [Source:HGNC Symbol;Acc:HGNC:3697]',\n",
       " 'pyruvate dehydrogenase kinase, isoenzyme 1 (PDK1) pseudogene',\n",
       " 'phosphomevalonate kinase [Source:HGNC Symbol;Acc:HGNC:9141]',\n",
       " 'unc-51 like autophagy activating kinase 1 [Source:HGNC Symbol;Acc:HGNC:12558]',\n",
       " 'mitogen-activated protein kinase kinase 6 [Source:HGNC Symbol;Acc:HGNC:6846]',\n",
       " 'BR serine/threonine kinase 1 [Source:HGNC Symbol;Acc:HGNC:18994]',\n",
       " 'FAST kinase domains 3 [Source:HGNC Symbol;Acc:HGNC:28758]',\n",
       " 'CDC28 protein kinase regulatory subunit 1B pseudogene 1 [Source:HGNC Symbol;Acc:HGNC:20004]',\n",
       " 'protein kinase interferon-inducible double stranded RNA dependent activator (PRKRA) pseudogene',\n",
       " 'microtubule associated serine/threonine kinase 2 [Source:HGNC Symbol;Acc:HGNC:19035]']"
      ]
     },
     "execution_count": 17,
     "metadata": {},
     "output_type": "execute_result"
    }
   ],
   "source": [
    "search(\"kinase\")"
   ]
  },
  {
   "cell_type": "code",
   "execution_count": null,
   "metadata": {},
   "outputs": [],
   "source": []
  },
  {
   "cell_type": "code",
   "execution_count": null,
   "metadata": {},
   "outputs": [],
   "source": [
    "def blast_search(zoek, orga, keuze_2):\n",
    "    \"\"\" Vult de query en voert deze uit\n",
    "\n",
    "    :return:list -lijst met de outpute van de query\n",
    "    \"\"\"\n",
    "    if orga == \"All\":\n",
    "        orga = \"\"\n",
    "    else:\n",
    "        orga = \"where \" + keuze_2 + \" like '%\" + orga + \"%'\"\n",
    "    # orga = \"Gemmatimonadetes bacterium\"\n",
    "    # keuze_2 = \"organisme\"\n",
    "    cursor = conn.cursor()\n",
    "    sql = f\"select {zoek} from blast \" \\\n",
    "          f\"join taxonomy t on blast.taxonomy_tax_id = t.tax_id \" \\\n",
    "          f\"join fragment f on f.read_id = blast.fragment_read_id \" \\\n",
    "          f\"{orga}\" \\\n",
    "          f\"order by organisme\"\n",
    "    #sql = f\"select {zoek} from blast where {keuze_2} like '%{orga}%'\"\n",
    "    cursor.execute(sql)\n",
    "    row = cursor.fetchall()\n",
    "    regels = []\n",
    "    for item in list(row):\n",
    "        #regel = str(item).strip(\"'()''\").replace(\",\", \" \").replace(\"'\", \"\")\n",
    "        #regels.append(regel[0:len(regel)])\n",
    "        regels.append(item)\n",
    "    conn.commit()\n",
    "    return regels"
   ]
  },
  {
   "cell_type": "code",
   "execution_count": 85,
   "metadata": {},
   "outputs": [
    {
     "data": {
      "image/png": "[encoded data removed]",
      "text/plain": [
       "<Figure size 1500x1000 with 1 Axes>"
      ]
     },
     "metadata": {},
     "output_type": "display_data"
    }
   ],
   "source": [
    "test = count_amino_acids(\"atttgtggatgt\")\n",
    "value = test.keys()\n",
    "counts = test.values()\n",
    "graph_count(value, counts)"
   ]
  }
 ],
 "metadata": {
  "kernelspec": {
   "display_name": "Python 3 (ipykernel)",
   "language": "python",
   "name": "python3"
  },
  "language_info": {
   "codemirror_mode": {
    "name": "ipython",
    "version": 3
   },
   "file_extension": ".py",
   "mimetype": "text/x-python",
   "name": "python",
   "nbconvert_exporter": "python",
   "pygments_lexer": "ipython3",
   "version": "3.11.5"
  }
 },
 "nbformat": 4,
 "nbformat_minor": 4
}
