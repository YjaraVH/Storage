{
 "cells": [
  {
   "cell_type": "markdown",
   "metadata": {
    "cell_id": "39ec3ec4e5fc405a83893fdcc426abca",
    "deepnote_cell_type": "markdown"
   },
   "source": [
    "# Perceptron\n",
    "\n",
    "\n",
    "Implement a class for simulating perceptron. The class will have methods for initialization, training, and evaluating the performance of a perceptron.\n",
    "\n",
    "**Attributes of the class:**\n",
    "* `weights` is the extended weight vector of floats, where the last element\n",
    "  represents the bias,\n",
    "* `lr` (float) is the learning rate, and\n",
    "* `max_epochs` (integer) (integer) is the maximum number of epochs used for training.\n",
    "    \n",
    "**Parameters:**\n",
    "* `init_weights` (numpy array of floats, default `None`) is the initial value for \n",
    "  the extended weight vector, where the last element\n",
    "  represents the bias,\n",
    "* `lr` (float, default `1.0`) is the learning rate, and \n",
    "* `max_epochs` (integer, default `1000`) is the maximal number of epochs used when training.\n",
    "\n",
    "**Methods:**\n",
    "* `__init__(self, init_weights=[], lr=1, max_epochs=1000)` is the constructor initializing the perceptron \n",
    "* `predict(self, X)` predicts class labels for samples in `X`. Input `X` can be\n",
    "  * vector, i.e., one sample, or\n",
    "  * a two-dimensional array, where each row is a sample.\n",
    "\n",
    "  It returns\n",
    "  * either one value 0/1 if the input was a single vector, or\n",
    "  * vector with values 0/1 with the output of the perceptron for all samples in `X`.\n",
    "* `partial_fit(self, X, y, lr=1.0)` perform one epoch the perceptron learning algorithm \n",
    "  on the training set `X` (two-dimensional numpy array of floats) with \n",
    "  the desired outputs `y` (vector of integers 0/1) and learning rate `lr`. Instead of adding or subtracting   an (extended)     vector `x`, the function adds or subtracts `lr * x`.\n",
    "* `fit(self, X, y, lr=None, max_epochs=None)` trains perceptron using the perceptron learning algorithm\n",
    "  on the training set `X` (two-dimensional numpy array of floats) with \n",
    "  the desired outputs `y` (vector of integers 0/1). It returns the number of epochs used in the training \n",
    "  (at most `max_epochs`).\n",
    "* `score(self, X, y)` returns the mean accuracy on the test data \n",
    "  `X` (two-dimensional numpy array of floats) and labels `y` (vector of integers 0/1).\n"
   ]
  },
  {
   "cell_type": "code",
   "execution_count": 1,
   "metadata": {
    "cell_id": "98dcfd16cd30437eb4c03d5d1e0771e2",
    "deepnote_cell_type": "code"
   },
   "outputs": [],
   "source": [
    "import numpy as np\n",
    "import matplotlib.pyplot as plt"
   ]
  },
  {
   "cell_type": "code",
   "execution_count": 2,
   "metadata": {
    "cell_id": "80b079c4f0d448dcb0a60260adca9ba4",
    "deepnote_cell_type": "code"
   },
   "outputs": [],
   "source": [
    "class Perceptron:\n",
    "    def __init__(self, init_weights=[], lr=1.0, max_epochs=1000):\n",
    "        # Perceptron constructor\n",
    "        # self.weights will be initialized as \n",
    "        # np.asarray(init_weights, dtype=float) - this enables \n",
    "        # init_weights to be either a list of floats or numpy array. \n",
    "        # The empty weight vector can be tested using np.any(self.weights).\n",
    "        self.weights = np.asarray(init_weights, dtype=float)\n",
    "        self.lr = lr\n",
    "        self.max_epochs = max_epochs\n",
    "        \n",
    "    def predict(self, X):\n",
    "        # Compute the output of the perceptron.\n",
    "        # Input X can be\n",
    "        #  * vector, i.e., one sample\n",
    "        #  * or a two-dimensional array, where each row is a sample.\n",
    "        # Returns\n",
    "        #  * either one value 0/1 if the input was a single vector\n",
    "        #  * or vector with values 0/1 with the output of the perceptron \n",
    "        #    for all samples in X\n",
    "        # Raises an exception if the weights are not initialized.\n",
    "        # YOUR CODE HERE\n",
    "        pass\n",
    "    \n",
    "    def partial_fit(self, X, y, lr=1.0):\n",
    "        # perform one epoch perceptron learning algorithm \n",
    "        # on the training set `X` (two-dimensional numpy array of floats) with \n",
    "        # the desired outputs `y` (vector of integers 0/1) and learning rate `lr`.\n",
    "        # If self.weights is empty, the weight vector is generated randomly.\n",
    "        # YOUR CODE HERE\n",
    "        pass\n",
    "            \n",
    "    def fit(self, X, y, lr=None, max_epochs=None):\n",
    "        # trains perceptron using perceptron learning algorithm\n",
    "        # on the training set `X` (two-dimensional numpy array of floats) with \n",
    "        # the desired outputs `y` (vector of integers 0/1). \n",
    "        # If self.weights is empty, the weight vector is generated randomly.\n",
    "        # If the learning rate `lr == None`, \n",
    "        # `self.lr` is used. If `max_epochs == None`, self.max_epochs is used. \n",
    "        # Returns the number of epochs used in the training (at most `max_epochs`).\n",
    "        # YOUR CODE HERE\n",
    "        pass\n",
    "    \n",
    "    def score(self, X, y):\n",
    "        # returns the mean accuracy on the test data (1.0 means that all prediction are correct, \n",
    "        # 0.0 means that all predictions are wrong)\n",
    "        # `X` (two-dimensional numpy array of floats) are test samples and \n",
    "        # `y` (vector of integers 0/1) are correct labels for the test samples.\n",
    "        p = self.predict(X)\n",
    "        return (p == y).astype(int).mean()"
   ]
  },
  {
   "cell_type": "markdown",
   "metadata": {
    "cell_id": "7e20430f08c94fe083cbbf5dd61944cb",
    "deepnote_cell_type": "markdown"
   },
   "source": [
    "Test your implementation on the following example:"
   ]
  },
  {
   "cell_type": "code",
   "execution_count": 22,
   "metadata": {
    "cell_id": "a846c68df8714471b184951009fd3d33",
    "deepnote_cell_type": "code"
   },
   "outputs": [
    {
     "name": "stdout",
     "output_type": "stream",
     "text": [
      "First prediction: 0\n",
      "X:\n",
      " [[-2 -1]\n",
      " [ 0  1]\n",
      " [ 2  3]]\n",
      "Second prediction [0 1 1]\n"
     ]
    }
   ],
   "source": [
    "init_w = np.ones((3,))\n",
    "X = np.array([1,-3])\n",
    "perc = Perceptron(init_weights=init_w)\n",
    "print(\"First prediction:\",perc.predict(X))\n",
    "\n",
    "X = np.arange(6).reshape((3,2)) - 2\n",
    "print('X:\\n', X)\n",
    "print(f\"Second prediction {perc.predict(X)}\")"
   ]
  },
  {
   "cell_type": "code",
   "execution_count": 23,
   "metadata": {
    "cell_id": "2b6234a436e443e5a44c3bcb89929226",
    "deepnote_cell_type": "code"
   },
   "outputs": [
    {
     "name": "stdout",
     "output_type": "stream",
     "text": [
      "before shuffle X:\n",
      " [[1 1]\n",
      " [2 3]\n",
      " [3 1]\n",
      " [3 4]\n",
      " [4 2]\n",
      " [4 4]]\n",
      "X:\n",
      "[[1 1]\n",
      " [3 4]\n",
      " [4 4]\n",
      " [2 3]\n",
      " [3 1]\n",
      " [4 2]]\n",
      "y:\n",
      "[1. 0. 0. 1. 1. 0.])\n"
     ]
    }
   ],
   "source": [
    "perc = Perceptron(init_weights=np.array([1,3,-1], dtype=float))     # manually initialized perceptron\n",
    "xpos = np.array([[1,1],                   # training positive inputs, desired output 1\n",
    "                 [2,3],\n",
    "                 [3,1]])      \n",
    "xneg = np.array([[3,4],                   # training negative inputs, desired output 0\n",
    "                 [4,2],\n",
    "                 [4,4]])      \n",
    "X=np.vstack((xpos, xneg))\n",
    "print('before shuffle X:\\n',X)\n",
    "perm=np.array([0, 3, 5, 1, 2, 4])\n",
    "X=X[perm]                                 # permute the training smaples\n",
    "y=np.append(np.ones(3), np.zeros(3))\n",
    "y=y[perm]                                 # permute also the desired outputs\n",
    "print(f\"X:\\n{X}\")\n",
    "print(f\"y:\\n{y})\")"
   ]
  },
  {
   "cell_type": "markdown",
   "metadata": {
    "cell_id": "e6d5bc798ff14b4b9182fbf18191b0cd",
    "deepnote_cell_type": "markdown"
   },
   "source": [
    "`perc_plot(perc, X, y)` is an auxiliary function that works **for two-dimensional inputs only**. It plots positive and negative samples and the separating hyperplane defined by the current extended weight vector of the perceptron.\n",
    "  * `perc` is the perceptron.\n",
    "  * `X` (two-dimensional numpy array of floats) is the array of inputs (each row is one observation); \n",
    "    it must have 2 columns.\n",
    "  * `y` (vector of integers 0/1) is a vector of desired outputs for observations in `X`."
   ]
  },
  {
   "cell_type": "code",
   "execution_count": 24,
   "metadata": {
    "cell_id": "ced1f97546e64555a601369a7a030e06",
    "deepnote_cell_type": "code"
   },
   "outputs": [],
   "source": [
    "def perc_plot(perc, X, y):\n",
    "    # Plot the decision boundary defined by the perceptron perc\n",
    "    # and the samples - positive samples in red, negative samples in blue.\n",
    "    if perc.weights.shape[0] != 3:\n",
    "        raise Exception(\"Plotting is possible for 2-dim inputs only\")\n",
    "    plt.plot(X[y == 1, 0],X[y == 1, 1],'+r',label='Positive')\n",
    "    plt.plot(X[y == 0, 0],X[y == 0, 1],'xb', label='Negative')\n",
    "    xr = np.array([X[:,0].min(),X[:,1].max()])\n",
    "    plt.plot(xr,-(perc.weights[0]*xr+perc.weights[2]) / perc.weights[1],'g', label='Separating\\nhyperplane')\n",
    "    plt.legend()\n",
    "    plt.title(\"Perceptron decision boundary\")"
   ]
  },
  {
   "cell_type": "markdown",
   "metadata": {
    "cell_id": "31fa66e676f64d75b94e3cff6f52d21b",
    "deepnote_cell_type": "markdown"
   },
   "source": [
    "Below, we illustrate the initial state of the perceptron. It is evident that the perceptron will classify all training samples in the same way, as they are on the same side of the separating hyperplane."
   ]
  },
  {
   "cell_type": "code",
   "execution_count": 17,
   "metadata": {
    "cell_id": "44f694fe3af444e68185f61183078c99",
    "deepnote_cell_type": "code"
   },
   "outputs": [
    {
     "data": {
      "image/png": "[encoded data removed]",
      "text/plain": [
       "<Figure size 640x480 with 1 Axes>"
      ]
     },
     "metadata": {},
     "output_type": "display_data"
    }
   ],
   "source": [
    "perc_plot(perc, X, y)               # plot the samples and the separating\n",
    "                                    # hyperplane of the perceptron"
   ]
  },
  {
   "cell_type": "markdown",
   "metadata": {
    "cell_id": "7250e4cc620b4a25846ff45e0fb215b6",
    "deepnote_cell_type": "markdown"
   },
   "source": [
    "Next, we train the perceptron and plot its separating hyperplane after learning."
   ]
  },
  {
   "cell_type": "code",
   "execution_count": 18,
   "metadata": {
    "cell_id": "aecbc6e62bfe473d95ae86d7389a8fe8",
    "deepnote_cell_type": "code"
   },
   "outputs": [
    {
     "name": "stdout",
     "output_type": "stream",
     "text": [
      "The error rate before training: 0.5\n",
      "The error rate after training: 0.0\n",
      "Used epochs: 49\n"
     ]
    }
   ],
   "source": [
    "print(\"The error rate before training:\", 1 - perc.score(X, y))\n",
    "\n",
    "it = perc.fit(X, y, 0.5, 100) \n",
    "\n",
    "print(\"The error rate after training:\", 1 - perc.score(X, y))\n",
    "print(\"Used epochs:\",it)"
   ]
  },
  {
   "cell_type": "code",
   "execution_count": 19,
   "metadata": {
    "cell_id": "92d4f9dbaaa946538a54aa1d500a4a76",
    "deepnote_cell_type": "code"
   },
   "outputs": [
    {
     "data": {
      "image/png": "[encoded data removed]",
      "text/plain": [
       "<Figure size 640x480 with 1 Axes>"
      ]
     },
     "metadata": {},
     "output_type": "display_data"
    }
   ],
   "source": [
    "perc_plot(perc, X, y)"
   ]
  },
  {
   "cell_type": "markdown",
   "metadata": {
    "cell_id": "415428ec73704d32bd899665b24de5a2",
    "deepnote_cell_type": "markdown"
   },
   "source": [
    "**Question:** What is the minimal number of epochs necessary to learn the perceptron to classify all training samples correctly?"
   ]
  },
  {
   "cell_type": "markdown",
   "metadata": {
    "cell_id": "a221a548e21443bbb0550cc94997d13a",
    "deepnote_cell_type": "markdown"
   },
   "source": [
    "Design a small input (linearly separable training set and a vector of desired outputs) and initial \n",
    "weights such that the perceptron learning algorithm needs more than 1000 epochs to converge. Use the learning rate `1.0`!"
   ]
  },
  {
   "cell_type": "code",
   "execution_count": null,
   "metadata": {
    "cell_id": "cf530b2e7d664ab8963adeee30fe733f",
    "deepnote_cell_type": "code"
   },
   "outputs": [],
   "source": [
    "# YOUR CODE HERE\n"
   ]
  },
  {
   "cell_type": "markdown",
   "metadata": {
    "created_in_deepnote_cell": true,
    "deepnote_cell_type": "markdown"
   },
   "source": [
    "<a style='text-decoration:none;line-height:16px;display:flex;color:#5B5B62;padding:10px;justify-content:end;' href='https://deepnote.com?utm_source=created-in-deepnote-cell&projectId=a867fb0a-e864-4dec-bcf9-8c6081c04ecd' target=\"_blank\">\n",
    "<img alt='Created in deepnote.com' style='display:inline;max-height:16px;margin:0px;margin-right:7.5px;' src='data:image/svg+xml;base64,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' > </img>\n",
    "Created in <span style='font-weight:600;margin-left:4px;'>Deepnote</span></a>"
   ]
  }
 ],
 "metadata": {
  "deepnote": {},
  "deepnote_execution_queue": [],
  "deepnote_notebook_id": "b273408a484b479ea6cf91d53981c4c5",
  "interpreter": {
   "hash": "855dd7c545452e3910f8937a13c51dce290d62fbc4bcfebd6dc9d20622fd6e97"
  },
  "kernelspec": {
   "display_name": "Python 3 (ipykernel)",
   "language": "python",
   "name": "python3"
  },
  "language_info": {
   "codemirror_mode": {
    "name": "ipython",
    "version": 3
   },
   "file_extension": ".py",
   "mimetype": "text/x-python",
   "name": "python",
   "nbconvert_exporter": "python",
   "pygments_lexer": "ipython3",
   "version": "3.11.5"
  }
 },
 "nbformat": 4,
 "nbformat_minor": 4
}
