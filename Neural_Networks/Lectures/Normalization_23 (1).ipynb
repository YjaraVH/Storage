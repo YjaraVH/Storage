{
 "cells": [
  {
   "cell_type": "markdown",
   "metadata": {
    "cell_id": "37b06f2d55f54e85af3f3b03dd724973",
    "deepnote_cell_type": "markdown"
   },
   "source": [
    "# Data Normalization\n",
    "\n",
    "We have some source data as a vector of real values $x = (x_0, x_2,\\dots, x_{n-1}) \\in \\mathbb{R}^n$. Normalization of $X$ is a function $f: \\mathbb{R}^n \\to \\mathbb{R}^n$ that maps the data into a suitable range while preserving relations between the components. E.g., if $f(x) = (y_0, y_1,\\ldots,y_{n-1})$ and if $x_i \\ge x_j$, for some integers $i$, $j$ between $0$ and $n-1$, then it should hold $y_i \\ge y_j$.\n",
    "\n",
    "## Min-max normalization onto an interval $\\langle A,B \\rangle$\n",
    "\n",
    "Implement a function `mmnormalize_list(x, A=0, B=1)` that maps an arbitrary input vector `x`, represented as a **list** of floats, linearly onto the interval $\\langle A,B \\rangle$. Usually, we use min-max normalization onto the interval $\\langle 0, 1 \\rangle$ or $\\langle -1, 1 \\rangle$. For example\n",
    "\n",
    "    >>> mmnormalize_list([0.12, 3, -123],-1,1)\n",
    "    [0.9542857142857144, 1.0, -1.0]\n",
    "    \n",
    "    >>> mmnormalize_list([0.12, 3, -123],0,1)\n",
    "    [0.9771428571428572, 1.0, 0.0]"
   ]
  },
  {
   "cell_type": "code",
   "execution_count": 1,
   "metadata": {
    "cell_id": "6908d4c1eb664d0da972261d1f872547",
    "deepnote_cell_type": "code",
    "deepnote_to_be_reexecuted": false,
    "execution_millis": 2054,
    "execution_start": 1696967328893,
    "source_hash": null
   },
   "outputs": [],
   "source": [
    "import numpy as np\n",
    "import matplotlib.pyplot as plt"
   ]
  },
  {
   "cell_type": "markdown",
   "metadata": {
    "cell_id": "4747736c53b24a7b85170760500a5060",
    "deepnote_cell_type": "markdown"
   },
   "source": [
    "### Min-max normalization on a list and a numpy array"
   ]
  },
  {
   "cell_type": "code",
   "execution_count": 2,
   "metadata": {
    "cell_id": "030f8c409bba41e09eb92e442a58350d",
    "deepnote_cell_type": "code",
    "deepnote_to_be_reexecuted": false,
    "execution_millis": 31,
    "execution_start": 1696967331892,
    "source_hash": null
   },
   "outputs": [
    {
     "name": "stdout",
     "output_type": "stream",
     "text": [
      "[0.9542857142857144, 1.0, -1.0]\n",
      "[0.0, 0.2, 0.26666666666666666, 0.3333333333333333, 1.0]\n"
     ]
    }
   ],
   "source": [
    "def mmnormalize_list(x, A=0, B=1):\n",
    "    # x is a list of floats\n",
    "    # returns a list with values maped linearly into the interval <A,B>\n",
    "    # your code goes here\n",
    "    minv = min(x)\n",
    "    maxv = max(x)\n",
    "    return [(v - minv) / (maxv - minv) * (B - A) + A for v in x]\n",
    "\n",
    "print(mmnormalize_list([0.12, 3, -123],-1,1))\n",
    "print(mmnormalize_list([-5,-2,-1,0,10],0,1))\n",
    "assert(np.allclose(mmnormalize_list([-5,-2,-1,0,10],0,1), [0.0, 0.2, 0.26666666666666666, 0.3333333333333333, 1.0]))"
   ]
  },
  {
   "cell_type": "markdown",
   "metadata": {
    "cell_id": "2bcfc1a44df54925ba4277ee00929253",
    "deepnote_cell_type": "markdown"
   },
   "source": [
    "Using `matplotlib`, depict in a single plot `x` and `mmnormalize_list(x,A,B)` –- e.g., with `x` on the horizontal axis and `mmnormalize_list(x,A,B)` on the vertical axis."
   ]
  },
  {
   "cell_type": "code",
   "execution_count": 3,
   "metadata": {
    "cell_id": "b75a2b7f57cf4c91a6eecf9fb07c7aa2",
    "deepnote_cell_type": "code",
    "deepnote_to_be_reexecuted": false,
    "execution_millis": 205,
    "execution_start": 1696967334542,
    "source_hash": null
   },
   "outputs": [
    {
     "data": {
      "text/plain": [
       "[]"
      ]
     },
     "execution_count": 3,
     "metadata": {},
     "output_type": "execute_result"
    },
    {
     "data": {
      "image/png": "[encoded data removed]",
      "text/plain": [
       "<Figure size 640x480 with 1 Axes>"
      ]
     },
     "metadata": {},
     "output_type": "display_data"
    }
   ],
   "source": [
    "x = [-5,-2,-1,0,10]\n",
    "# your code goes here\n",
    "y = mmnormalize_list(x)\n",
    "plt.scatter(x, y)\n",
    "plt.plot()"
   ]
  },
  {
   "cell_type": "markdown",
   "metadata": {
    "cell_id": "84b6de2d33ca43a5897d138ecd685251",
    "deepnote_cell_type": "markdown"
   },
   "source": [
    "Implement another version of min-max normalization `mmnormalize` that accepts input data represented as a **two-dimensional numpy array**. Each row of the two-dimensional input array `X` is one observation. A column of `X` is the value of an attribute for all observations. Therefore, the normalization is performed **column-wise**."
   ]
  },
  {
   "cell_type": "code",
   "execution_count": 4,
   "metadata": {
    "cell_id": "6e14c154d13c4222a4b000b8c92fc17d",
    "deepnote_cell_type": "code",
    "deepnote_to_be_reexecuted": false,
    "execution_millis": 25,
    "execution_start": 1696967336986,
    "source_hash": null
   },
   "outputs": [
    {
     "name": "stdout",
     "output_type": "stream",
     "text": [
      "[[ 1.20e-01  2.00e+00]\n",
      " [ 3.00e+00  5.00e+00]\n",
      " [-1.23e+02  7.00e+00]]\n"
     ]
    }
   ],
   "source": [
    "X = np.array([[0.12, 2], [3, 5], [-123, 7]])\n",
    "print(X)"
   ]
  },
  {
   "cell_type": "code",
   "execution_count": 5,
   "metadata": {
    "cell_id": "10fe44aa4cc04648a730343b12b7e1cb",
    "deepnote_cell_type": "code",
    "deepnote_to_be_reexecuted": false,
    "execution_millis": 31,
    "execution_start": 1696967339733,
    "source_hash": null
   },
   "outputs": [
    {
     "data": {
      "text/plain": [
       "array([[ 9.77142857,  0.        ],\n",
       "       [10.        ,  6.        ],\n",
       "       [ 0.        , 10.        ]])"
      ]
     },
     "execution_count": 5,
     "metadata": {},
     "output_type": "execute_result"
    }
   ],
   "source": [
    "import warnings\n",
    "\n",
    "def mmnormalize(X, A=0, B=1):\n",
    "    # X is a two-dimensional numpy array of floats\n",
    "    # returns a numpy array with values from X maped linearly into the interval <A,B>\n",
    "    # your code goes her\n",
    "    with warnings.catch_warnings():\n",
    "     warnings.simplefilter(\"error\")\n",
    "\n",
    "     max_data = np.max(X, axis=0)\n",
    "     mim_data = np.min(X, axis=0)\n",
    "   \n",
    "     try:\n",
    "         return (B-A) * ((X - mim_data)/(max_data-mim_data))+A\n",
    "     except RuntimeWarning:\n",
    "         return X\n",
    "    \n",
    "mmnormalize(X, 0, 10)"
   ]
  },
  {
   "cell_type": "code",
   "execution_count": 5,
   "metadata": {
    "cell_id": "10fe44aa4cc04648a730343b12b7e1cb",
    "deepnote_cell_type": "code",
    "deepnote_to_be_reexecuted": false,
    "execution_millis": 31,
    "execution_start": 1696967339733,
    "source_hash": null
   },
   "outputs": [
    {
     "data": {
      "text/plain": [
       "array([[ 9.77142857,  0.        ],\n",
       "       [10.        ,  6.        ],\n",
       "       [ 0.        , 10.        ]])"
      ]
     },
     "execution_count": 5,
     "metadata": {},
     "output_type": "execute_result"
    }
   ],
   "source": [
    "import warnings\n",
    "\n",
    "def mmnormalize(X, A=0, B=1):\n",
    "    # X is a two-dimensional numpy array of floats\n",
    "    # returns a numpy array with values from X maped linearly into the interval <A,B>\n",
    "    # your code goes here\n",
    "    normalize = lambda arr: mmnormalize_list(arr, A, B)\n",
    "    return np.apply_along_axis(normalize, 0, X)\n",
    "    \n",
    "mmnormalize(X, 0, 10)"
   ]
  },
  {
   "cell_type": "code",
   "execution_count": 5,
   "metadata": {
    "cell_id": "10fe44aa4cc04648a730343b12b7e1cb",
    "deepnote_cell_type": "code",
    "deepnote_to_be_reexecuted": false,
    "execution_millis": 31,
    "execution_start": 1696967339733,
    "source_hash": null
   },
   "outputs": [
    {
     "data": {
      "text/plain": [
       "array([[ 9.77142857,  0.        ],\n",
       "       [10.        ,  6.        ],\n",
       "       [ 0.        , 10.        ]])"
      ]
     },
     "execution_count": 5,
     "metadata": {},
     "output_type": "execute_result"
    }
   ],
   "source": [
    "import warnings\n",
    "\n",
    "def mmnormalize(X, A=0, B=1):\n",
    "    # X is a two-dimensional numpy array of floats\n",
    "    # returns a numpy array with values from X maped linearly into the interval <A,B>\n",
    "    # your code goes here\n",
    "\n",
    "    MIN = np.min(X,axis=0)\n",
    "    MAX = np.max(X,axis=0)\n",
    "    return (B-A) * ((X - MIN)/(MAX-MIN))+A\n",
    "    \n",
    "mmnormalize(X, 0, 10)"
   ]
  },
  {
   "cell_type": "markdown",
   "metadata": {
    "cell_id": "e42ebe7c6f4541208f0ced916ff5cab5",
    "deepnote_cell_type": "markdown",
    "tags": []
   },
   "source": [
    "Are there special cases that should be considered when implementing/using the above functions?\n",
    "\n",
    "What should be the output of the following statement?\n",
    "\n",
    "Answer during class: When maximum and minmimum given are the same. "
   ]
  },
  {
   "cell_type": "code",
   "execution_count": 6,
   "metadata": {
    "cell_id": "36bfc338e65540e1a2b16a37e5926651",
    "deepnote_cell_type": "code",
    "deepnote_to_be_reexecuted": false,
    "execution_millis": 25,
    "execution_start": 1696967344652,
    "source_hash": null,
    "tags": []
   },
   "outputs": [
    {
     "data": {
      "text/plain": [
       "array([[1.],\n",
       "       [1.],\n",
       "       [1.]])"
      ]
     },
     "execution_count": 6,
     "metadata": {},
     "output_type": "execute_result"
    }
   ],
   "source": [
    "mmnormalize(np.ones((3,1)), 0, 5)"
   ]
  },
  {
   "cell_type": "markdown",
   "metadata": {
    "cell_id": "d85fd454b82e49f9be22e455272775f3",
    "deepnote_cell_type": "markdown"
   },
   "source": [
    "Make sure that the previous statement runs correctly."
   ]
  },
  {
   "cell_type": "markdown",
   "metadata": {
    "cell_id": "e793cc6ed56a4639a90aec18273cbbd8",
    "deepnote_cell_type": "markdown"
   },
   "source": [
    "### Class `MmNormalizer`\n",
    "However, we also must be able \n",
    "1. to apply the same transformation to new data, and\n",
    "2. to compute the inverse transformation. \n",
    "Implement another version of `mmnormalize` as a class `MmNormalizer` that can not only compute the min-max normalization but stores also the parameters of the transformation. This enables the application of the same normalization on new data or to compute the inverse transformation.\n",
    "\n",
    "Such class should implement the following methods:\n",
    "* `fit_transform(self, X)`: fit normalization to data X;\n",
    "* `apply(self, X)`: apply normalization to data X using parameters \n",
    "  of the transformation stored in the object;\n",
    "* `inverse(self, X)`: apply the inverse transformation of the normalization to data X \n",
    "  using parameters of the transformation stored in the object.\n",
    "\n",
    "Let us define an abstract class `Normalizer`, which will serve as a base class for any normalizer class."
   ]
  },
  {
   "cell_type": "code",
   "execution_count": 7,
   "metadata": {
    "cell_id": "e66c2cffdc1b4c3f90ee3f0bdeeab666",
    "deepnote_cell_type": "code",
    "deepnote_to_be_reexecuted": false,
    "execution_millis": 36,
    "execution_start": 1696967349012,
    "source_hash": null,
    "tags": []
   },
   "outputs": [],
   "source": [
    "class Normalizer:\n",
    "    \"\"\"A base class for normalization\"\"\"\n",
    "    \n",
    "    def fit_transform(self, X):\n",
    "        \"\"\"Fit normalizer to data X;\n",
    "        the method returns transformed data, \n",
    "        and saves parameters of the transformation in internal attributes.\n",
    "        \"\"\"\n",
    "        raise NotImplementedError\n",
    "                                \n",
    "    def apply(self, X):\n",
    "        \"\"\"Apply normalization to data X using parameters \n",
    "        of the transformation stored in the object.\n",
    "        \"\"\"\n",
    "        raise NotImplementedError\n",
    "                        \n",
    "    def inverse(self, X):\n",
    "        \"\"\"Apply the inverse transformation of the normalization to data X \n",
    "        using parameters of the transformation stored in the object.\n",
    "        \"\"\"\n",
    "        raise NotImplementedError"
   ]
  },
  {
   "cell_type": "markdown",
   "metadata": {
    "cell_id": "7047fd515a8f418daa365a392a1b66c8",
    "deepnote_cell_type": "markdown"
   },
   "source": [
    "Now we can define a class `MmNormalizer` that will implement min-max normalization."
   ]
  },
  {
   "cell_type": "code",
   "execution_count": 8,
   "metadata": {
    "cell_id": "d22a46859f8948dc80564fb5dd294ae1",
    "deepnote_cell_type": "code",
    "deepnote_to_be_reexecuted": false,
    "execution_millis": 11,
    "execution_start": 1696967354475,
    "source_hash": null
   },
   "outputs": [],
   "source": [
    "import sys\n",
    "class MmNormalizer(Normalizer):\n",
    "    \"\"\"A class for min-max normalization\"\"\"\n",
    "    \n",
    "    def __init__(self, A=0, B=1):\n",
    "        \"\"\"Constructor for min-max normalizer into the interval <A,B>\"\"\"\n",
    "        self.A = A\n",
    "        self.B = B\n",
    "        \n",
    "    def fit_transform(self, X):\n",
    "        \"\"\"Fit min-max normalizer to data X, constant features (columns) \n",
    "        are mapped into the middle of the interval <A,B>;\n",
    "        the method returns transformed data, \n",
    "        and saves parameters of the transformation in internal attributes.\n",
    "        \"\"\"\n",
    "        self.max_data = np.max(X, axis=0)\n",
    "        self.min_data = np.min(X, axis=0)\n",
    "        #float\n",
    "        #Better take 0.5\n",
    "        constants = int(self.B - ((self.B - self.A)/2))\n",
    "        normalized =  (self.B-self.A) * ((X - self.min_data)/(self.max_data-self.min_data))+self.A\n",
    "        return np.nan_to_num(x=normalized , nan=(constants))\n",
    "                                \n",
    "    def apply(self, X):\n",
    "        \"\"\"Apply min-max normalization to data X using parameters \n",
    "        of the transformation stored in the object.\n",
    "        \"\"\"\n",
    "        # your code goes here\n",
    "        constants = int(self.B - ((self.B - self.A)/2))\n",
    "        \n",
    "        normalized =  (self.B-self.A) * ((X - self.min_data)/(self.max_data-self.min_data))+self.A\n",
    "        return np.nan_to_num(x=normalized , nan=(constants).astype('int'))\n",
    "                        \n",
    "    def inverse(self, X):\n",
    "        \"\"\"Apply the inverse transformation of min-max normalization to data X \n",
    "        using parameters of the transformation stored in the object.\n",
    "        \"\"\"\n",
    "        # your code goes here\n",
    "        # Did not add the 'constant' part to it\n",
    "        return (X - self.A) * ((self.max_data - self.min_data) / (self.B - self.A)) + self.min_data"
   ]
  },
  {
   "cell_type": "code",
   "execution_count": 8,
   "metadata": {
    "cell_id": "d22a46859f8948dc80564fb5dd294ae1",
    "deepnote_cell_type": "code",
    "deepnote_to_be_reexecuted": false,
    "execution_millis": 11,
    "execution_start": 1696967354475,
    "source_hash": null
   },
   "outputs": [],
   "source": [
    "class MmNormalizer(Normalizer):\n",
    "    \"\"\"A class for min-max normalization\"\"\"\n",
    "    \n",
    "    def __init__(self, A=0, B=1):\n",
    "        \"\"\"Constructor for min-max normalizer into the interval <A,B>\"\"\"\n",
    "        self.A = A\n",
    "        self.B = B\n",
    "        \n",
    "    def fit_transform(self, X: np.ndarray):\n",
    "        \"\"\"Fit min-max normalizer to data X, constant features (columns) \n",
    "        are mapped into the middle of the interval <A,B>;\n",
    "        the method returns transformed data, \n",
    "        and saves parameters of the transformation in internal attributes.\n",
    "        \"\"\"\n",
    "        self.minv = X.min(axis=0)\n",
    "        self.maxv = X.max(axis=0)\n",
    "        return np.nan_to_num((X - self.minv) / (self.maxv - self.minv), False, 0.5) * (self.B - self.A) + self.A\n",
    "                                \n",
    "    def apply(self, X: np.ndarray):\n",
    "        \"\"\"Apply min-max normalization to data X using parameters \n",
    "        of the transformation stored in the object.\n",
    "        \"\"\"\n",
    "        return np.nan_to_num((X - self.minv) / (self.maxv - self.minv), False, 0.5) * (self.B - self.A) + self.A\n",
    "        pass\n",
    "                        \n",
    "    def inverse(self, X: np.ndarray):\n",
    "        \"\"\"Apply the inverse transformation of min-max normalization to data X \n",
    "        using parameters of the transformation stored in the object.\n",
    "        \"\"\"\n",
    "        return np.nan_to_num((X - self.A) / (self.B - self.A), False, 0.5) * (self.maxv - self.minv) + self.minv\n",
    "        pass"
   ]
  },
  {
   "cell_type": "code",
   "execution_count": 9,
   "metadata": {
    "cell_id": "d22a46859f8948dc80564fb5dd294ae1",
    "deepnote_cell_type": "code",
    "deepnote_to_be_reexecuted": false,
    "execution_millis": 11,
    "execution_start": 1696967354475,
    "jupyter": {
     "source_hidden": true
    },
    "source_hash": null
   },
   "outputs": [],
   "source": [
    "import sys\n",
    "class MmNormalizer2(Normalizer):\n",
    "    \"\"\"A class for min-max normalization\"\"\"\n",
    "    \n",
    "    def __init__(self, A=0, B=1):\n",
    "        \"\"\"Constructor for min-max normalizer into the interval <A,B>\"\"\"\n",
    "        self.A = A\n",
    "        self.B = B\n",
    "        \n",
    "    def fit_transform(self, X):\n",
    "        \"\"\"Fit min-max normalizer to data X, constant features (columns) \n",
    "        are mapped into the middle of the interval <A,B>;\n",
    "        the method returns transformed data, \n",
    "        and saves parameters of the transformation in internal attributes.\n",
    "        \"\"\"\n",
    "        with warnings.catch_warnings():\n",
    "            warnings.simplefilter(\"error\")\n",
    "\n",
    "            self.max_data = np.max(X, axis=0)\n",
    "            self.min_data = np.min(X, axis=0)\n",
    "\n",
    "            try:\n",
    "                print(\"test\")\n",
    "                for v in X:\n",
    "                    print(v)\n",
    "                return (self.B-self.A) * ((X - self.min_data)/(self.max_data-self.min_data))+self.A\n",
    "            except RuntimeWarning:\n",
    "                #sys.stdout.write(\"RunTimeWarning\")\n",
    "                np.seterr(divide='ignore', invalid='ignore')\n",
    "                print(\"test\")\n",
    "                for v in X:\n",
    "                    print(v)\n",
    "                return (self.B-self.A) * ((X - self.min_data)/(self.max_data-self.min_data))+self.A\n",
    "                #return X\n",
    "                                \n",
    "    def apply(self, X):\n",
    "        \"\"\"Apply min-max normalization to data X using parameters \n",
    "        of the transformation stored in the object.\n",
    "        \"\"\"\n",
    "        # your code goes here\n",
    "        return (self.B-self.A) * ((X - self.min_data)/(self.max_data-self.min_data))+self.A\n",
    "                        \n",
    "    def inverse(self, X):\n",
    "        \"\"\"Apply the inverse transformation of min-max normalization to data X \n",
    "        using parameters of the transformation stored in the object.\n",
    "        \"\"\"\n",
    "        # your code goes here\n",
    "        return (X - self.A) * ((self.max_data - self.min_data) / (self.B - self.A)) + self.min_data"
   ]
  },
  {
   "cell_type": "code",
   "execution_count": 9,
   "metadata": {
    "cell_id": "7eb4903659b04a9b8ff43ea2adec4105",
    "deepnote_cell_type": "code",
    "deepnote_to_be_reexecuted": false,
    "execution_millis": 23,
    "execution_start": 1696967357196,
    "source_hash": null,
    "tags": []
   },
   "outputs": [
    {
     "name": "stdout",
     "output_type": "stream",
     "text": [
      "[[ 1.20e-01  2.00e+00]\n",
      " [ 3.00e+00  5.00e+00]\n",
      " [-1.23e+02  7.00e+00]]\n",
      "[[ 9.77142857  0.        ]\n",
      " [10.          6.        ]\n",
      " [ 0.         10.        ]]\n",
      "[[ 1.20e-01  2.00e+00]\n",
      " [ 3.00e+00  5.00e+00]\n",
      " [-1.23e+02  7.00e+00]]\n"
     ]
    }
   ],
   "source": [
    "X = np.array([[0.12, 2], [3, 5], [-123, 7]])\n",
    "print(X)\n",
    "mmn = MmNormalizer(0,10)\n",
    "X_norm = mmn.fit_transform(X)\n",
    "print(X_norm)\n",
    "assert(np.allclose(X_norm, np.array([[9.77142857, 0], [10, 6], [0, 10]])))\n",
    "print(mmn.inverse(X_norm))\n",
    "assert(np.allclose(mmn.inverse(X_norm), X))"
   ]
  },
  {
   "cell_type": "code",
   "execution_count": 10,
   "metadata": {
    "cell_id": "83f9da5f281a403aa00d89702c8212f5",
    "deepnote_cell_type": "code",
    "deepnote_to_be_reexecuted": false,
    "execution_millis": 54,
    "execution_start": 1696967360067,
    "source_hash": null,
    "tags": []
   },
   "outputs": [
    {
     "name": "stdout",
     "output_type": "stream",
     "text": [
      "[[ 5.  5.  0.]\n",
      " [ 5.  5.  5.]\n",
      " [ 5.  5. 10.]]\n",
      "[[1. 3. 0.]\n",
      " [1. 3. 1.]\n",
      " [1. 3. 2.]]\n"
     ]
    },
    {
     "name": "stderr",
     "output_type": "stream",
     "text": [
      "C:\\Users\\yjara\\AppData\\Local\\Temp\\ipykernel_17268\\1443785634.py:19: RuntimeWarning: invalid value encountered in divide\n",
      "  normalized =  (self.B-self.A) * ((X - self.min_data)/(self.max_data-self.min_data))+self.A\n"
     ]
    }
   ],
   "source": [
    "X = np.hstack((np.ones((3,1)), 3*np.ones((3,1)),np.arange(3).reshape((3,1))))\n",
    "\n",
    "#print(X)\n",
    "mmn = MmNormalizer(0,10)\n",
    "X_norm = mmn.fit_transform(X)\n",
    "print(X_norm)\n",
    "\n",
    "assert(np.allclose(X_norm, np.array([[5, 5, 0], [5, 5, 5], [5, 5, 10]])))\n",
    "print(mmn.inverse(X_norm))\n",
    "assert(np.allclose(mmn.inverse(X_norm), X))"
   ]
  },
  {
   "cell_type": "code",
   "execution_count": 11,
   "metadata": {
    "cell_id": "9b7ceabb74b04ce48c4418b0770d6805",
    "deepnote_cell_type": "code",
    "deepnote_to_be_reexecuted": false,
    "execution_millis": 813,
    "execution_start": 1696967364023,
    "source_hash": null,
    "tags": []
   },
   "outputs": [
    {
     "name": "stdout",
     "output_type": "stream",
     "text": [
      "[[1. 3. 0.]\n",
      " [1. 3. 1.]\n",
      " [1. 3. 2.]]\n",
      "[[-20. -20. -20.]\n",
      " [-20. -20.  -5.]\n",
      " [-20. -20.  10.]]\n",
      "[[1. 3. 0.]\n",
      " [1. 3. 1.]\n",
      " [1. 3. 2.]]\n"
     ]
    }
   ],
   "source": [
    "from sklearn.preprocessing import MinMaxScaler\n",
    "\n",
    "X = np.hstack((np.ones((3,1)), 3*np.ones((3,1)),np.arange(3).reshape((3,1))))\n",
    "print(X)\n",
    "mm = MinMaxScaler(feature_range=(-20,10))\n",
    "Xt = mm.fit_transform(X)\n",
    "print(Xt)\n",
    "Xback = mm.inverse_transform(Xt)\n",
    "print(Xback)"
   ]
  },
  {
   "cell_type": "markdown",
   "metadata": {
    "cell_id": "263aee32b93c448585ec8943025cd9e3",
    "deepnote_cell_type": "markdown"
   },
   "source": [
    "## Normalization by the standard deviation\n",
    "\n",
    "\n",
    "*Population standard deviation* measures the spread of a data distribution. It measures the typical distance between each data point and the mean. The *sample standard deviation* is an unbiased estimate of the population standard deviation. The sample standard deviation is defined as\n",
    "$$sd(X)= \\sigma_X=\\sqrt{\\frac{\\sum(X-\\bar{X})^2}{N-1}},$$\n",
    "where $\\bar{X}=\\frac{1}{N} \\cdot \\sum_{i=1}^{N} x_i$ is the mean value of $X$.\n",
    "\n",
    "Normalization by the standard deviation transforms an input vector linearly so that the mapped data will have the mean 0 and the (sample) standard deviation 1.\n",
    "\n",
    "Implement the methods of the following class `SdNormalizer` that should implement normalization by standard deviation. Its method `fit_transform(X)` transforms two-dimensional array `X` linearly into an array with the mean 0 and the (sample) standard deviation 1 in each column."
   ]
  },
  {
   "cell_type": "code",
   "execution_count": 12,
   "metadata": {
    "cell_id": "9c11d57ba5414c36983f68e49cbfd6ea",
    "deepnote_cell_type": "code",
    "deepnote_to_be_reexecuted": false,
    "execution_millis": 13,
    "execution_start": 1696968312892,
    "source_hash": null
   },
   "outputs": [],
   "source": [
    "class SdNormalizer(Normalizer):\n",
    "    \"\"\"A class for normalization by the standard deviation\"\"\"\n",
    "            \n",
    "    def fit_transform(self, X):\n",
    "        \"\"\"Fit SdNormalizer to data X, constant features (columns) \n",
    "        are mapped into 0 (not satisfying the requirements that \n",
    "        the standard deviation is 1);\n",
    "        the method returns transformed data, \n",
    "        and saves parameters of the transformation in internal attributes.\n",
    "        \"\"\"\n",
    "        #Mean and standard deviation\n",
    "        self.mean = np.mean(X, axis=0)\n",
    "        self.std = np.std(X, axis=0) \n",
    "        #ddof=1 is storing the standard deviation\n",
    "        #ddof=1 less biased, so this is the -1\n",
    "\n",
    "        # Normalize\n",
    "        self.normalized = X - self.mean\n",
    "\n",
    "        # In case standard deviation is 0\n",
    "        #self.std[self.std == 1] = 0\n",
    "\n",
    "        # Set constant features (columns) standard deviation to 1\n",
    "        constant = np.where(self.std == 0)[0]\n",
    "        self.std[constant] = 1\n",
    "\n",
    "        # Scale within one standard deviation\n",
    "        self.normalized = self.normalized / self.std\n",
    "        return self.normalized\n",
    "\n",
    "    def apply(self, X):\n",
    "        \"\"\"apply the normalization by the standard deviation to data X using parameters \n",
    "        of the transformation stored in the object\n",
    "        \"\"\"\n",
    "        # Normalize\n",
    "        self.normalized = X - self.mean\n",
    "\n",
    "        # In case standard deviation is 0\n",
    "        #self.std[self.std == 1] = 0\n",
    "\n",
    "        # Set constant features (columns) standard deviation to 1\n",
    "        constant = np.where(self.std == 0)[0]\n",
    "        self.std[constant] = 1\n",
    "\n",
    "        # Scale within one standard deviation\n",
    "        self.normalized = self.normalized / self.std\n",
    "        return self.normalized\n",
    "                        \n",
    "    def inverse(self, X):\n",
    "        \"\"\"apply the inverse transformation of the normalization by the standard deviation to data X \n",
    "        using parameters of the transformation stored in the object\n",
    "        \"\"\"\n",
    "        # Inverse\n",
    "        inverse_data = (X * self.std) + self.mean\n",
    "        return inverse_data"
   ]
  },
  {
   "cell_type": "code",
   "execution_count": 12,
   "metadata": {
    "cell_id": "9c11d57ba5414c36983f68e49cbfd6ea",
    "deepnote_cell_type": "code",
    "deepnote_to_be_reexecuted": false,
    "execution_millis": 13,
    "execution_start": 1696968312892,
    "source_hash": null
   },
   "outputs": [],
   "source": [
    "class SdNormalizer(Normalizer):\n",
    "    \"\"\"A class for normalization by the standard deviation\"\"\"\n",
    "\n",
    "    def fit_transform(self, X):\n",
    "        \"\"\"Fit SdNormalizer to data X, constant features (columns)\n",
    "        are mapped into 0 (not satisfying the requirements that\n",
    "        the standard deviation is 1);\n",
    "        the method returns transformed data,\n",
    "        and saves parameters of the transformation in internal attributes.\n",
    "        \"\"\"\n",
    "        # your code goes here\n",
    "        self.mean = X.mean(axis=0)\n",
    "        self.stddev = X.std(axis=0, ddof=1)  \n",
    "        \n",
    "        # standard deviation is zero for constant features\n",
    "        self.stddev[self.stddev == 0] = 1.0\n",
    "        \n",
    "        return self.apply(X)\n",
    "\n",
    "    def apply(self, X):\n",
    "        \"\"\"apply the normalization by the standard deviation to data X using parameters\n",
    "        of the transformation stored in the object\n",
    "        \"\"\"\n",
    "        # your code goes here\n",
    "        normalized_X = (X - self.mean) / self.stddev\n",
    "        return normalized_X\n",
    "\n",
    "    def inverse(self, X):\n",
    "        \"\"\"apply the inverse transformation of the normalization by the standard deviation to data X\n",
    "        using parameters of the transformation stored in the object\n",
    "        \"\"\"\n",
    "        # your code goes here\n",
    "        original_X = X * self.stddev + self.mean\n",
    "        return original_X"
   ]
  },
  {
   "cell_type": "code",
   "execution_count": 23,
   "metadata": {
    "jupyter": {
     "source_hidden": true
    }
   },
   "outputs": [],
   "source": [
    "class SdNormalizer2(Normalizer):\n",
    "    \"\"\"A class for normalization by the standard deviation\"\"\"\n",
    "            \n",
    "    def fit_transform(self, X):\n",
    "        \"\"\"Fit SdNormalizer to data X, constant features (columns) \n",
    "        are mapped into 0 (not satisfying the requirements that \n",
    "        the standard deviation is 1);\n",
    "        the method returns transformed data, \n",
    "        and saves parameters of the transformation in internal attributes.\n",
    "        \"\"\"\n",
    "        # your code goes here\n",
    "\n",
    "        #Mean and standard deviation\n",
    "        #self.mean = X.mean(axis=0) \n",
    "        #self.std = X.std(axis=0)\n",
    "\n",
    "        self.mean = np.mean(X, axis=0)\n",
    "        self.std = np.std(X, axis=0)\n",
    "\n",
    "        # Normalize\n",
    "        self.normalized = X - self.mean\n",
    "\n",
    "        # In case standard deviation is 0\n",
    "        self.std[self.std == 1] = 0\n",
    "\n",
    "        # Scale within one standard deviation\n",
    "        self.normalized = self.normalized / self.std\n",
    "\n",
    "        # Normalize by substracting mean and deviding by standard deviation\n",
    "        #self.normalized = (X - self.mean) / self.std\n",
    "        return self.normalized\n",
    "\n",
    "\n",
    "    def fit_transform2(self, X):\n",
    "        \"\"\"Fit SdNormalizer to data X, constant features (columns) \n",
    "        are mapped into 0 (not satisfying the requirements that \n",
    "        the standard deviation is 1);\n",
    "        the method returns transformed data, \n",
    "        and saves parameters of the transformation in internal attributes.\n",
    "        \"\"\"\n",
    "        # your code goes here\n",
    "        num_rows = len(X)\n",
    "        num_cols = len(X[0])\n",
    "\n",
    "        # Calculate the mean and standard deviation for each column\n",
    "        self.mean = [sum(X[i][j] for i in range(num_rows)) / num_rows for j in range(num_cols)]\n",
    "        self.std = [(sum((X[i][j] - self.mean[j]) ** 2 for i in range(num_rows)) / (num_rows - 1)) ** 0.5 for j in range(num_cols)]\n",
    "\n",
    "        # Transform the data by subtracting the mean and dividing by the standard deviation\n",
    "        X_normalized = [[(X[i][j] - self.mean[j]) / self.std[j] for j in range(num_cols)] for i in range(num_rows)]\n",
    "        return np.array(X_normalized)\n",
    "        #return X_normalized\n",
    "\n",
    "       # normalized_data_within_one_std = [max(min(x, 1), -1) for x in self.normalized]\n",
    "       # print(normalized_data_within_one_std)\n",
    "\n",
    "        # Within 1 std\n",
    "       # normalized_1_std = max(min(self.normalized, 1), -1)# for x in self.normalized\n",
    "\n",
    "        # for list\n",
    "        #return (x - self.mean) / self.std for x in X\n",
    "       # print(max(min(self.normalized, 1), -1))\n",
    "       # return normalized_1_std\n",
    "\n",
    "    def apply(self, X):\n",
    "        \"\"\"apply the normalization by the standard deviation to data X using parameters \n",
    "        of the transformation stored in the object\n",
    "        \"\"\"\n",
    "        # for list\n",
    "        #return (x - self.mean) / self.std for x in X\n",
    "        #self.normalized_data = (X - self.mean) / self.std\n",
    "\n",
    "        # Normalize\n",
    "        self.normalized = X - self.mean\n",
    "\n",
    "        # In case standard deviation is 0\n",
    "        self.std[self.std == 1] = 0\n",
    "\n",
    "        # Scale within one standard deviation\n",
    "        self.normalized = self.normalized / self.std\n",
    "\n",
    "        # Normalize by substracting mean and deviding by standard deviation\n",
    "        #self.normalized = (X - self.mean) / self.std\n",
    "        return self.normalized\n",
    "\n",
    "\n",
    "                                \n",
    "    def apply2(self, X):\n",
    "        \"\"\"apply the normalization by the standard deviation to data X using parameters \n",
    "        of the transformation stored in the object\n",
    "        \"\"\"\n",
    "        # for list\n",
    "        #return (x - self.mean) / self.std for x in X\n",
    "        self.normalized_data = (X - self.mean) / self.std\n",
    "        return self.normalized_data\n",
    "\n",
    "        # Within 1 std\n",
    "        #normalized_1_std = max(min(self.normalized, 1), -1)# for x in self.normalized\n",
    "\n",
    "        # for list\n",
    "        #return (x - self.mean) / self.std for x in X\n",
    "        #return normalized_1_std\n",
    "        # Transform the data by subtracting the mean and dividing by the standard deviation\n",
    "        #X_normalized = [[(X[i][j] - self.mean[j]) / self.std[j] for j in range(num_cols)] for i in range(num_rows)]\n",
    "        #return np.array([[(X[i][j] - self.mean[j]) / self.std[j] for j in range(num_cols)] for i in range(num_rows)])\n",
    "                        \n",
    "    def inverse(self, X):\n",
    "        \"\"\"apply the inverse transformation of the normalization by the standard deviation to data X \n",
    "        using parameters of the transformation stored in the object\n",
    "        \"\"\"\n",
    "        # your code goes here\n",
    "        # [(x * original_std_dev) + original_mean for x in normalized_data]\n",
    "        # for list\n",
    "        #return [(x * self.std) + self.mean for x in X]\n",
    "        inverse_data = (X * self.std) + self.mean\n",
    "        return inverse_data"
   ]
  },
  {
   "cell_type": "code",
   "execution_count": 13,
   "metadata": {
    "cell_id": "4dc0287fe80848148a6e3b846b1055ea",
    "deepnote_cell_type": "code",
    "deepnote_to_be_reexecuted": false,
    "execution_millis": 125,
    "execution_start": 1696968339274,
    "source_hash": null,
    "tags": []
   },
   "outputs": [
    {
     "name": "stdout",
     "output_type": "stream",
     "text": [
      "[1.22474487 1.22474487]\n",
      "\n",
      "\n",
      "[1.22474487 1.22474487] 1\n",
      "[[ 1.20e-01  2.00e+00]\n",
      " [ 3.00e+00  5.00e+00]\n",
      " [-1.23e+02  7.00e+00]]\n"
     ]
    }
   ],
   "source": [
    "X = np.array([[0.12, 2], [3, 5], [-123, 7]])\n",
    "#print(X)\n",
    "sdn = SdNormalizer()\n",
    "X_norm = sdn.fit_transform(X)\n",
    "#print(X_norm)\n",
    "print(X_norm.std(ddof=1, axis=0))\n",
    "print(\"\\n\")\n",
    "print(X_norm.std(ddof=1, axis=0), 1)\n",
    "#assert(np.allclose(X_norm.std(ddof=1, axis=0), 1))\n",
    "\n",
    "print(sdn.inverse(X_norm))\n",
    "assert(np.allclose(sdn.inverse(X_norm), X))\n",
    "\n",
    "\n"
   ]
  },
  {
   "cell_type": "code",
   "execution_count": 14,
   "metadata": {
    "cell_id": "0006665f8d414834aac37daea9419be0",
    "deepnote_cell_type": "code",
    "deepnote_to_be_reexecuted": false,
    "execution_millis": 308,
    "execution_start": 1696968367241,
    "source_hash": null,
    "tags": []
   },
   "outputs": [
    {
     "name": "stdout",
     "output_type": "stream",
     "text": [
      "[[ 0.          0.         -1.22474487]\n",
      " [ 0.          0.          0.        ]\n",
      " [ 0.          0.          1.22474487]]\n",
      "False\n",
      "\n",
      "\n"
     ]
    }
   ],
   "source": [
    "X = np.hstack((np.ones((3,1)), 3*np.ones((3,1)),np.arange(3).reshape((3,1))))\n",
    "#print(X)\n",
    "sdn = SdNormalizer()\n",
    "X_norm = sdn.fit_transform(X)\n",
    "print(X_norm)\n",
    "\n",
    "print(np.allclose(X_norm.std(ddof=1, axis=0), np.array([0, 0, 1])))\n",
    "#assert(np.allclose(X_norm.std(ddof=1, axis=0), np.array([0, 0, 1])))\n",
    "print(\"\\n\")\n",
    "#print(X_norm.std(ddof=1, axis=0), np.array([0, 0, 1]))\n",
    "\n",
    "#print(sdn.inverse(X_norm))\n",
    "\n",
    "#assert(np.allclose(sdn.inverse(X_norm), X))"
   ]
  },
  {
   "cell_type": "markdown",
   "metadata": {
    "cell_id": "862deb55aa504920905f657b23247ae5",
    "deepnote_cell_type": "markdown"
   },
   "source": [
    "## Sigmoid normalization\n",
    "\n",
    "The sigmoid function (or logistic function) is the real function\n",
    "$$\\sigma(x,\\lambda)=\\frac{1}{1+e^{-\\lambda x}},$$ where the real constant $\\lambda$ is called *slope*.\n",
    "The domain of sigmoid is $(-\\infty,+\\infty)$ and its range is  $(0,1)$.\n",
    "\n",
    "We can plot the sigmoid function for $\\lambda=1$, e.g., in the following way"
   ]
  },
  {
   "cell_type": "code",
   "execution_count": 15,
   "metadata": {
    "cell_id": "47e7e6a8839b49b4a4524438107d016d",
    "deepnote_cell_type": "code"
   },
   "outputs": [
    {
     "data": {
      "text/plain": [
       "Text(0.5, 1.0, 'Sigmoid function with slope 1')"
      ]
     },
     "execution_count": 15,
     "metadata": {},
     "output_type": "execute_result"
    },
    {
     "data": {
      "image/png": "[encoded data removed]",
      "text/plain": [
       "<Figure size 640x480 with 1 Axes>"
      ]
     },
     "metadata": {},
     "output_type": "display_data"
    }
   ],
   "source": [
    "x = np.arange(-10,10,0.2)\n",
    "y = 1 / (1 + np.exp(-x))\n",
    "plt.plot(x,y)\n",
    "plt.title('Sigmoid function with slope 1')"
   ]
  },
  {
   "cell_type": "markdown",
   "metadata": {
    "cell_id": "a11aec2ddcad4bb7bcd29a17515b9655",
    "deepnote_cell_type": "markdown"
   },
   "source": [
    "Implement the methods of the following class `SigmNormalizer` that should implement sigmoid normalization. Its method `fit_transform(X)` transforms two-dimensional array `X` non-linearly using function $\\sigma(x,\\lambda)$."
   ]
  },
  {
   "cell_type": "code",
   "execution_count": 16,
   "metadata": {
    "cell_id": "6b471d2a67d44d77be174f314dada90f",
    "deepnote_cell_type": "code",
    "tags": []
   },
   "outputs": [],
   "source": [
    "class SigmNormalizer(Normalizer):\n",
    "    \"\"\"A class for sigmoid normalization\"\"\"\n",
    "    \n",
    "    def __init__(self, lamda=1):\n",
    "        \"\"\"constructor for sigmoid normalizer\"\"\"\n",
    "        # Lamda to control behavior of the sigmoid function\n",
    "        self.lamda = lamda\n",
    "            \n",
    "    def fit_transform(self, X):\n",
    "        \"\"\"Fit SigmNormalizer to data X;\n",
    "        the method returns transformed data.\n",
    "        \"\"\"  \n",
    "        # your code goes here\n",
    "        self.normalized = 1 / (1 + np.exp(-self.lamda * X))\n",
    "        return self.normalized\n",
    "                                \n",
    "    def apply(self, X): #the other way around fit_transform and apply\n",
    "        \"\"\"Apply normalization by the standard deviation to data X using parameters \n",
    "        of the transformation stored in the object.\n",
    "        \"\"\"\n",
    "       # your code goes here\n",
    "        return self.normalized\n",
    "                        \n",
    "    def inverse(self, X):\n",
    "        \"\"\"Apply the inverse transformation of normalization by the standard deviation to data X \n",
    "        using parameters of the transformation stored in the object.\n",
    "        \"\"\"\n",
    "        # your code goes here\n",
    "        return np.log(X / (1 - X)) / self.lamda"
   ]
  },
  {
   "cell_type": "code",
   "execution_count": 16,
   "metadata": {
    "cell_id": "6b471d2a67d44d77be174f314dada90f",
    "deepnote_cell_type": "code",
    "tags": []
   },
   "outputs": [],
   "source": [
    "class SigmNormalizer(Normalizer):\n",
    "    \"\"\"A class for sigmoid normalization\"\"\"\n",
    "    \n",
    "    def __init__(self, lamda=1):\n",
    "        \"\"\"constructor for sigmoid normalizer\"\"\"\n",
    "        self.lamda = lamda\n",
    "            \n",
    "    def fit_transform(self, X):\n",
    "        \"\"\"Fit SigmNormalizer to data X;\n",
    "        the method returns transformed data.\n",
    "        \"\"\"  \n",
    "        return self.apply(X)\n",
    "                                \n",
    "    def apply(self, X):\n",
    "        \"\"\"Apply normalization by the standard deviation to data X using parameters \n",
    "        of the transformation stored in the object.\n",
    "        \"\"\"\n",
    "        # your code goes here\n",
    "        cs = []\n",
    "        for i in range(X.shape[1]):\n",
    "            c = 1 / (1 + np.exp(-X[:,i] * self.lamda))\n",
    "            cs.append([c])\n",
    "        return np.concatenate(cs, axis=0).T\n",
    "                        \n",
    "    def inverse(self, X):\n",
    "        \"\"\"Apply the inverse transformation of normalization by the standard deviation to data X \n",
    "        using parameters of the transformation stored in the object.\n",
    "        \"\"\"\n",
    "        cs = []\n",
    "        for i in range(X.shape[1]):\n",
    "            c = np.log(1 / X[:,i] - 1) / - self.lamda\n",
    "            cs.append([c])\n",
    "        return np.concatenate(cs, axis=0).T"
   ]
  },
  {
   "cell_type": "code",
   "execution_count": 17,
   "metadata": {
    "cell_id": "54b517ed592a4616819191819e1353dc",
    "deepnote_cell_type": "code",
    "tags": []
   },
   "outputs": [
    {
     "name": "stdout",
     "output_type": "stream",
     "text": [
      "[[5.59713649e-001 9.82013790e-001]\n",
      " [9.97527377e-001 9.99954602e-001]\n",
      " [1.45732848e-107 9.99999168e-001]]\n",
      "\n",
      "\n",
      "[[ 1.20e-01  2.00e+00]\n",
      " [ 3.00e+00  5.00e+00]\n",
      " [-1.23e+02  7.00e+00]]\n"
     ]
    }
   ],
   "source": [
    "X = np.array([[0.12, 2], [3, 5], [-123, 7]])\n",
    "#print(X)\n",
    "sigmn = SigmNormalizer(lamda=2)\n",
    "X_norm = sigmn.fit_transform(X)\n",
    "print(X_norm)\n",
    "print(\"\\n\")\n",
    "#print(np.allclose(X_norm, np.array([[0.559713649, 0.982013790], [0.997527377, 0.999954602], [0, 0.999999168]])))\n",
    "assert(np.allclose(X_norm, np.array([[0.559713649, 0.982013790], [0.997527377, 0.999954602], [0, 0.999999168]])))\n",
    "print(sigmn.inverse(X_norm))\n",
    "assert(np.allclose(sigmn.inverse(X_norm), X))"
   ]
  },
  {
   "cell_type": "code",
   "execution_count": 18,
   "metadata": {
    "cell_id": "d6db8ea96f3c499b8875e10a2b17567e",
    "deepnote_cell_type": "code",
    "tags": []
   },
   "outputs": [
    {
     "name": "stdout",
     "output_type": "stream",
     "text": [
      "[[1. 3. 0.]\n",
      " [1. 3. 1.]\n",
      " [1. 3. 2.]]\n",
      "[[0.73105858 0.95257413 0.5       ]\n",
      " [0.73105858 0.95257413 0.73105858]\n",
      " [0.73105858 0.95257413 0.88079708]]\n",
      "[[1. 3. 0.]\n",
      " [1. 3. 1.]\n",
      " [1. 3. 2.]]\n"
     ]
    }
   ],
   "source": [
    "X = np.hstack((np.ones((3,1)), 3*np.ones((3,1)),np.arange(3).reshape((3,1))))\n",
    "print(X)\n",
    "sigmn = SigmNormalizer()\n",
    "X_norm = sigmn.fit_transform(X)\n",
    "print(X_norm)\n",
    "assert(np.allclose(X_norm, np.array([[0.73105858, 0.95257413, 0.5],\n",
    "                                     [0.73105858, 0.95257413, 0.73105858],\n",
    "                                     [0.73105858, 0.95257413, 0.88079708]])))\n",
    "print(sigmn.inverse(X_norm))\n",
    "assert(np.allclose(sigmn.inverse(X_norm), X))"
   ]
  },
  {
   "cell_type": "markdown",
   "metadata": {
    "cell_id": "986f7053066240f88e89409381c74c45",
    "deepnote_cell_type": "markdown"
   },
   "source": [
    "Are there functions implementing the above normalization method in `numpy` or `scikit-learn` libraries?"
   ]
  },
  {
   "cell_type": "code",
   "execution_count": 19,
   "metadata": {
    "cell_id": "6362909df0d249919b342020ced8c1f2",
    "deepnote_cell_type": "code",
    "tags": []
   },
   "outputs": [],
   "source": [
    "import sklearn"
   ]
  },
  {
   "cell_type": "code",
   "execution_count": null,
   "metadata": {
    "cell_id": "cabac8b3f96e44878d623fe5ce892aca",
    "deepnote_cell_type": "code"
   },
   "outputs": [],
   "source": []
  },
  {
   "cell_type": "markdown",
   "metadata": {
    "created_in_deepnote_cell": true,
    "deepnote_cell_type": "markdown"
   },
   "source": [
    "<a style='text-decoration:none;line-height:16px;display:flex;color:#5B5B62;padding:10px;justify-content:end;' href='https://deepnote.com?utm_source=created-in-deepnote-cell&projectId=4c50f001-e560-454a-8045-3a629ed0f10e' target=\"_blank\">\n",
    "<img alt='Created in deepnote.com' style='display:inline;max-height:16px;margin:0px;margin-right:7.5px;' src='data:image/svg+xml;base64,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' > </img>\n",
    "Created in <span style='font-weight:600;margin-left:4px;'>Deepnote</span></a>"
   ]
  }
 ],
 "metadata": {
  "deepnote": {},
  "deepnote_execution_queue": [],
  "deepnote_notebook_id": "ce6d36b75f7c42eab4964e901e0c4d19",
  "deepnote_persisted_session": {
   "createdAt": "2023-10-10T15:45:21.637Z"
  },
  "kernelspec": {
   "display_name": "Python 3 (ipykernel)",
   "language": "python",
   "name": "python3"
  },
  "language_info": {
   "codemirror_mode": {
    "name": "ipython",
    "version": 3
   },
   "file_extension": ".py",
   "mimetype": "text/x-python",
   "name": "python",
   "nbconvert_exporter": "python",
   "pygments_lexer": "ipython3",
   "version": "3.11.5"
  }
 },
 "nbformat": 4,
 "nbformat_minor": 4
}
