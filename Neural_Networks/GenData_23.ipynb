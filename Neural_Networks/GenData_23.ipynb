{
 "cells": [
  {
   "cell_type": "code",
   "execution_count": 2,
   "metadata": {
    "cell_id": "a7cab30dc0e84055a8a35f638750a7a6",
    "deepnote_cell_type": "code",
    "deepnote_to_be_reexecuted": false,
    "execution_millis": 391,
    "execution_start": 1697107637784,
    "source_hash": "eba39436",
    "tags": []
   },
   "outputs": [],
   "source": [
    "import numpy as np\n",
    "import matplotlib.pyplot as plt"
   ]
  },
  {
   "cell_type": "markdown",
   "metadata": {
    "cell_id": "6a05616477654f50bdb2e756d4cf5b66",
    "deepnote_cell_type": "markdown"
   },
   "source": [
    "# Generating Test Data\n",
    "\n",
    "\n",
    "When we implement or test various methods for machine learning (e.g., neural networks), we need the ability to generate data with prescribed properties and also to generate \"random\" data or randomly select data from a given set of data. For generating random data, we need to know the probability distribution of the data.\n",
    "\n",
    "\n",
    "For a random variable $V$ with the *uniform probability distribution* on an interval $\\langle A,B\\rangle$ it holds:\n",
    "\n",
    "* the density function of the distribution is $\\displaystyle h(x) = \\begin{cases}\n",
    "             \\frac{1}{B-A} & \\text{for } x \\in \\langle A,B \\rangle\\\\\n",
    "             0              & \\text{otherwise}\n",
    "         \\end{cases}$\n",
    "\n",
    "* a random number from the distribution can be generated using the function `random.uniform(A,B)`, which is included in the standard Python library"
   ]
  },
  {
   "cell_type": "code",
   "execution_count": 5,
   "metadata": {
    "cell_id": "e8f7e191d56f4c2dafdba7acb5485497",
    "deepnote_cell_type": "code",
    "deepnote_to_be_reexecuted": false,
    "execution_millis": 43,
    "execution_start": 1697107641919,
    "source_hash": "6b65dd22",
    "tags": []
   },
   "outputs": [
    {
     "data": {
      "text/plain": [
       "17.53294357804288"
      ]
     },
     "execution_count": 5,
     "metadata": {},
     "output_type": "execute_result"
    }
   ],
   "source": [
    "import random\n",
    "\n",
    "A, B = 10, 20\n",
    "random.uniform(A,B)"
   ]
  },
  {
   "cell_type": "markdown",
   "metadata": {
    "cell_id": "3fd93e13b88a4806981367e17f7accf0",
    "deepnote_cell_type": "markdown"
   },
   "source": [
    "* An $m \\times n$ matrix `s` represented as `numpy` array of numbers from the uniform distribution on the interval $\\langle A,B \\rangle$ can be generated as"
   ]
  },
  {
   "cell_type": "code",
   "execution_count": 8,
   "metadata": {
    "cell_id": "50e521ed6bbc4990a7a0b43c32e0c551",
    "deepnote_cell_type": "code",
    "tags": []
   },
   "outputs": [],
   "source": [
    "A = 10\n",
    "B = 20\n",
    "\n",
    "m = 3\n",
    "n = 4\n",
    "\n",
    "# using just the Python standard library random\n",
    "# YOUR CODE GOES HERE\n",
    "s = np.asarray([[random.uniform(A,B) for j in range(n)] for i in range(m)])\n",
    "\n",
    "# using numpy\n",
    "# YOUR CODE GOES HERE \n",
    "\n",
    "# (m, n) = size of matrix\n",
    "s = np.random.uniform(A, B, (m, n))"
   ]
  },
  {
   "cell_type": "markdown",
   "metadata": {
    "cell_id": "630cc245eb1e4440a15bea4a9f549534",
    "deepnote_cell_type": "markdown"
   },
   "source": [
    "For a random variable $V$ with the *normal (or Gauss) distribution* with mean $\\mu$ and variance $\\sigma^2$ it holds:\n",
    "\n",
    "* the density function is the following $\\displaystyle p(x) = \\frac{ 1}{ \\sqrt{2 \\pi \\sigma^2}} e^{\n",
    "  -\\frac{(x-\\mu)^2}{2\\sigma^2}}$\n",
    "\n",
    "* For the random variable $V$ it holds that with the probability 95\\% its value is from the interval\n",
    "  $\\langle\\mu-1.96\\sigma,\\mu+1.96\\sigma\\rangle$.\n",
    "\n",
    "\n",
    "The function `random.gauss(mu, sigma)` generates a random number from the normal distribution with mean `mu` and variance `sigma`. Such distribution is denoted as ${\\cal N}(\\texttt{mu}, \\texttt{sigma})$."
   ]
  },
  {
   "cell_type": "code",
   "execution_count": 9,
   "metadata": {
    "cell_id": "0058c53d1ba94d30bb90921401f2725e",
    "deepnote_cell_type": "code",
    "tags": []
   },
   "outputs": [
    {
     "data": {
      "text/plain": [
       "5.060429887019198"
      ]
     },
     "execution_count": 9,
     "metadata": {},
     "output_type": "execute_result"
    }
   ],
   "source": [
    "random.gauss(5,1)"
   ]
  },
  {
   "cell_type": "markdown",
   "metadata": {
    "cell_id": "df312006b6084548a760b8b41f9a93db",
    "deepnote_cell_type": "markdown"
   },
   "source": [
    " A numpy array `s` of size $m \\times n$ with numbers from the normal distribution with mean `mu` and variance `sigma` can be generated as follows:"
   ]
  },
  {
   "cell_type": "code",
   "execution_count": 10,
   "metadata": {
    "cell_id": "86683fe10c1248c48edaf2bc077a3211",
    "deepnote_cell_type": "code",
    "tags": []
   },
   "outputs": [
    {
     "name": "stdout",
     "output_type": "stream",
     "text": [
      "s.shape: (10000,)\n",
      "[2.13102094 1.71143833 1.66379438 2.2383948  2.44043057 1.4749654\n",
      " 1.71170259 2.05168876 2.32090074 2.24509991]\n"
     ]
    }
   ],
   "source": [
    "mu, sigma = 2, 0.3 # mean and standard deviation\n",
    "\n",
    "s = np.random.normal(mu, sigma, 10000) #10000 the size, sigma is the standard deviation\n",
    "print('s.shape:', s.shape)\n",
    "print(s[:10])"
   ]
  },
  {
   "cell_type": "markdown",
   "metadata": {
    "cell_id": "51b1708e13834e6b8502ef06ac80251e",
    "deepnote_cell_type": "markdown"
   },
   "source": [
    "Verify the mean and the variance:"
   ]
  },
  {
   "cell_type": "code",
   "execution_count": 11,
   "metadata": {
    "cell_id": "a0fe1b85b7924bcb9adc57160c0a5951",
    "deepnote_cell_type": "code",
    "tags": []
   },
   "outputs": [
    {
     "data": {
      "text/plain": [
       "0.0005715490038080695"
      ]
     },
     "execution_count": 11,
     "metadata": {},
     "output_type": "execute_result"
    }
   ],
   "source": [
    "# is the mean eaqual to mu?\n",
    "abs(mu - np.mean(s))"
   ]
  },
  {
   "cell_type": "code",
   "execution_count": 12,
   "metadata": {
    "cell_id": "b844a49545544689bae1fcbc07f5cfce",
    "deepnote_cell_type": "code",
    "tags": []
   },
   "outputs": [
    {
     "data": {
      "text/plain": [
       "0.0008609348513103909"
      ]
     },
     "execution_count": 12,
     "metadata": {},
     "output_type": "execute_result"
    }
   ],
   "source": [
    "# is the standard deviation sigma?\n",
    "abs(sigma - np.std(s, ddof=1)) #degrees of freedom = 1 "
   ]
  },
  {
   "cell_type": "markdown",
   "metadata": {
    "cell_id": "c443cab9123f498b8c0d13d167533408",
    "deepnote_cell_type": "markdown"
   },
   "source": [
    "**Question:** Why in the above code `ddof=1` is used?"
   ]
  },
  {
   "cell_type": "markdown",
   "metadata": {
    "cell_id": "a8167307a17b4fa193719aeb780db83f",
    "deepnote_cell_type": "markdown"
   },
   "source": [
    "Display the histogram of the samples, along with the probability density function:"
   ]
  },
  {
   "cell_type": "code",
   "execution_count": 19,
   "metadata": {
    "cell_id": "f31df1f27523426992ba69f3941fd0c5",
    "deepnote_cell_type": "code"
   },
   "outputs": [
    {
     "data": {
      "text/plain": [
       "[<matplotlib.lines.Line2D at 0x1de9d640e90>]"
      ]
     },
     "execution_count": 19,
     "metadata": {},
     "output_type": "execute_result"
    },
    {
     "data": {
      "image/png": "[encoded data removed]",
      "text/plain": [
       "<Figure size 640x480 with 1 Axes>"
      ]
     },
     "metadata": {},
     "output_type": "display_data"
    }
   ],
   "source": [
    "s = np.random.normal(mu, sigma, 10000)\n",
    "bins = 30 #the range of the values, put? in 30 bins\n",
    "\n",
    "count, bins, ignored = plt.hist(s, bins, density=True)\n",
    "\n",
    "#implementation of the density formula \n",
    "plt.plot(bins, 1/(sigma * np.sqrt(2 * np.pi)) *\n",
    "               np.exp( - (bins - mu)**2 / (2 * sigma**2) ),\n",
    "         linewidth=2, color='r')"
   ]
  },
  {
   "cell_type": "markdown",
   "metadata": {
    "cell_id": "e06c3e8c3aaf4941893f95be0ad9cceb",
    "deepnote_cell_type": "markdown"
   },
   "source": [
    "**Question:** Why `density=True` is used in the above call to `plt.hist`?"
   ]
  },
  {
   "cell_type": "markdown",
   "metadata": {
    "cell_id": "54c64264fe6e4fbe9f27a95f6d6376a9",
    "deepnote_cell_type": "markdown"
   },
   "source": [
    "Generate a two-dimensional array of samples from ${\\cal N}(3, 2.5)$:"
   ]
  },
  {
   "cell_type": "code",
   "execution_count": 14,
   "metadata": {
    "cell_id": "4f35ab10d28b4976a87d748b8b8e9b7e",
    "deepnote_cell_type": "code"
   },
   "outputs": [
    {
     "name": "stdout",
     "output_type": "stream",
     "text": [
      "s.shape: (2, 4)\n",
      "[[ 3.72756819  2.76459124  3.55136932  4.81832738]\n",
      " [ 2.55893811  3.36225839 -1.43782651 -1.36120967]]\n"
     ]
    }
   ],
   "source": [
    "s = np.random.normal(3, 2.5, size=(2, 4))\n",
    "print('s.shape:', s.shape)\n",
    "print(s)"
   ]
  },
  {
   "cell_type": "markdown",
   "metadata": {
    "cell_id": "c296e98588bd4cf9b43c9528b653be29",
    "deepnote_cell_type": "markdown",
    "tags": []
   },
   "source": [
    "## Generating Vector with Two Clusters\n",
    "\n",
    "Implement a function `randv2n(n1,mu1,sigma1,n2,mu2,sigma2)` that\n",
    "generates one-row vector containing `n1` numbers\n",
    "from the **normal distribution** with mean `mu1` and standard deviation\n",
    "`sigma1` and another `n2` numbers from the normal distribution with mean `mu2` and variance `sigma2`.\n",
    "\n",
    "E.g., `randv2n(3,-10,1,4,10,1)` can return numbers (rounded)\n",
    "\n",
    "`[  9.95050222 -10.61370077   9.87080321  -7.90992686   9.34644975\n",
    "   8.75197336 -11.08548289]`\n",
    "\n",
    "Note that the numbers from the two clusters are **randomly mixed** in the returned vector. This can be achieved using the function `random.shuffle(x)` for an iterable `x` or `np.random.shuffle` for numpy arrays. "
   ]
  },
  {
   "cell_type": "code",
   "execution_count": 27,
   "metadata": {
    "cell_id": "74185e43dd2540e4b83f4648b0dee8fd",
    "deepnote_cell_type": "code",
    "tags": []
   },
   "outputs": [
    {
     "name": "stdout",
     "output_type": "stream",
     "text": [
      "[ 10.64573325   8.58845716 -11.63412717   9.37501992   9.75982145\n",
      "  -9.50690535 -10.41004882]\n"
     ]
    }
   ],
   "source": [
    "def randv2n(n1,mu1,sigma1,n2,mu2,sigma2):\n",
    "    #mu1 mean value first cluster\n",
    "    #N2 number of elements in the second cluster\n",
    "    # YOUR CODE GOES HERE\n",
    "    first = np.random.normal(mu1, sigma1, n1)\n",
    "    second = np.random.normal(mu2, sigma2, n2)\n",
    "    x = np.concatenate((first, second), axis=0)\n",
    "    random.shuffle(x)\n",
    "    return x\n",
    "\n",
    "print(randv2n(3,-10,1,4,10,1))"
   ]
  },
  {
   "cell_type": "markdown",
   "metadata": {
    "cell_id": "27cbba82bdfe415b86ce4f3c4424f3d7",
    "deepnote_cell_type": "markdown"
   },
   "source": [
    "Demonstrate your implementation by constructing a histogram of the returned vector. How can we set up the number of bins in the histogram?"
   ]
  },
  {
   "cell_type": "code",
   "execution_count": 31,
   "metadata": {
    "cell_id": "bfabf0d2b124493eb4e8e32693990baa",
    "deepnote_cell_type": "code",
    "tags": []
   },
   "outputs": [
    {
     "name": "stdout",
     "output_type": "stream",
     "text": [
      "[ 10.74591744  10.17986126   9.81727143 -10.67307748  -9.00703522\n",
      " -11.24757545  10.5757532    6.93432287 -11.29980387   9.70414729\n",
      "  10.38428291  10.38015631   9.35711841   9.95072753  10.07947873\n",
      "  -9.86168134  11.12364464  10.85007811  10.83663299  -9.75283624\n",
      "  -8.08793139  12.87111193  11.92729203  10.90369794  -9.0230547\n",
      "  -7.49898084   9.89409086 -10.86902246   8.85349479  -9.58176835\n",
      "  -9.32831116  -9.94579699   9.1395329   -9.35299676 -12.72546577\n",
      "  10.16416214  10.99929095   8.7219969   -8.56056669  10.25307872\n",
      "   9.35863971  10.0839722   10.89088929  11.04192244   9.37894157\n",
      "   9.32347053   9.17728442  -7.67937807  10.02567964  -9.60936101\n",
      "  11.24723631  -9.84293779 -10.94504334  10.33254905 -10.7928654\n",
      " -10.64757622  10.53723511 -10.45401462  11.08663835 -11.32965384\n",
      "  -9.43385929  10.50129503   9.28912454 -10.8001088  -10.19978973\n",
      " -10.00766712 -10.80943871   9.96992289  -8.95097281  10.10297412]\n"
     ]
    },
    {
     "data": {
      "text/plain": [
       "(array([ 1.,  3.,  9., 10.,  4.,  2.,  1.,  0.,  0.,  0.,  0.,  0.,  0.,\n",
       "         0.,  0.,  0.,  0.,  0.,  0.,  0.,  0.,  0.,  0.,  1.,  0.,  9.,\n",
       "        12., 15.,  2.,  1.]),\n",
       " array([-12.72546577, -11.87224651, -11.01902725, -10.165808  ,\n",
       "         -9.31258874,  -8.45936948,  -7.60615023,  -6.75293097,\n",
       "         -5.89971171,  -5.04649246,  -4.1932732 ,  -3.34005394,\n",
       "         -2.48683469,  -1.63361543,  -0.78039617,   0.07282308,\n",
       "          0.92604234,   1.7792616 ,   2.63248085,   3.48570011,\n",
       "          4.33891937,   5.19213862,   6.04535788,   6.89857714,\n",
       "          7.75179639,   8.60501565,   9.45823491,  10.31145416,\n",
       "         11.16467342,  12.01789268,  12.87111193]),\n",
       " <BarContainer object of 30 artists>)"
      ]
     },
     "execution_count": 31,
     "metadata": {},
     "output_type": "execute_result"
    },
    {
     "data": {
      "image/png": "[encoded data removed]",
      "text/plain": [
       "<Figure size 640x480 with 1 Axes>"
      ]
     },
     "metadata": {},
     "output_type": "display_data"
    }
   ],
   "source": [
    "rv = randv2n(30,-10,1,40,10,1)\n",
    "print(rv)\n",
    "\n",
    "# plot the histogram of the vector rv\n",
    "plt.hist(rv, bins=30)"
   ]
  },
  {
   "cell_type": "markdown",
   "metadata": {
    "cell_id": "c613129867e241e4bb610af6f913c506",
    "deepnote_cell_type": "markdown"
   },
   "source": [
    "## Generating Clusters in 2D\n",
    "\n",
    "Implement a function `randn2d(n, mu1, sigma1, mu2, sigma2, draw)`, with parameters `n`, `mu1`, `sigma1`, `mu2`, `sigma2` that are `numpy` vectors of the same length $n$. The function should generate a matrix of size $\\displaystyle \\left(\\sum_{i=1}^{n} \\texttt{n[i]}\\right) \\times 2$ containing random points in 2D. Each row of the resulting matrix is interpreted as the coordinates of a point on a plane. In the resulting matrix, For each `i`$=1,\\dots,n$, `n[i]` is the number of points in the `i`-th cluster generated randomly from the normal distribution with mean `mu1[i]` and standard deviation `sigma1[i]` in the first coordinate, and with mean `mu2[i]` and standard deviation `sigma2[i]` in the second coordinate.\n",
    "\n",
    "If the function is called with `draw != None`, the function plots a graph with graphically distinguished clusters before returning the resulting matrix (e.g., using the function `plt.scatter()`."
   ]
  },
  {
   "cell_type": "code",
   "execution_count": 47,
   "metadata": {
    "cell_id": "f3c5b7c3264149a19e10f15b8cfa348a",
    "deepnote_cell_type": "code"
   },
   "outputs": [
    {
     "data": {
      "image/png": "[encoded data removed]",
      "text/plain": [
       "<Figure size 640x480 with 1 Axes>"
      ]
     },
     "metadata": {},
     "output_type": "display_data"
    },
    {
     "name": "stdout",
     "output_type": "stream",
     "text": [
      "None\n"
     ]
    }
   ],
   "source": [
    "def randn2d(n, mu1, sigma1, mu2, sigma2, draw): #Scatterplot  > draw: colors       e\n",
    "    # generate a random array with 2 columns\n",
    "    # n[i] is the number of rows from cluster i\n",
    "    # the first coordinate of elements from cluster i are generated from N(mu1[i],sigma1[i])\n",
    "    # the second coordinate of elements from cluster i are generated from N(mu2[i],sigma2[i])\n",
    "    # the retured array has shuffled rows\n",
    "    # YOUR CODE GOES HERE \n",
    "    x = []\n",
    "    y = []\n",
    "    for i in range(len(n)):\n",
    "        x = np.random.normal(mu1[i], sigma1[i], n[i])\n",
    "        y = np.random.normal(mu2[i], sigma2[i], n[i])\n",
    "        random.shuffle(x)\n",
    "        random.shuffle(y)  \n",
    "        plt.scatter(x, y)\n",
    "    plt.show()\n",
    "    \n",
    "\n",
    "res = randn2d([10,4,32], [1, 5, 20], [.3, .3, 2.1], [1, 11, 9], [.3, 0.1, 0.7], draw=\"yes\")\n"
   ]
  },
  {
   "cell_type": "code",
   "execution_count": 47,
   "metadata": {
    "cell_id": "f3c5b7c3264149a19e10f15b8cfa348a",
    "deepnote_cell_type": "code"
   },
   "outputs": [
    {
     "data": {
      "image/png": "[encoded data removed]",
      "text/plain": [
       "<Figure size 640x480 with 1 Axes>"
      ]
     },
     "metadata": {},
     "output_type": "display_data"
    },
    {
     "name": "stdout",
     "output_type": "stream",
     "text": [
      "None\n"
     ]
    }
   ],
   "source": [
    "def randn2d(n, mu1, sigma1, mu2, sigma2, draw): #Scatterplot  > draw: colors       e\n",
    "    # generate a random array with 2 columns\n",
    "    # n[i] is the number of rows from cluster i\n",
    "    # the first coordinate of elements from cluster i are generated from N(mu1[i],sigma1[i])\n",
    "    # the second coordinate of elements from cluster i are generated from N(mu2[i],sigma2[i])\n",
    "    # the retured array has shuffled rows\n",
    "    # YOUR CODE GOES HERE \n",
    "    x = []\n",
    "    y = []\n",
    "    for i in range(len(n)):\n",
    "        x = np.random.normal(mu1[i], sigma1[i], n[i])\n",
    "        y = np.random.normal(mu2[i], sigma2[i], n[i])\n",
    "        random.shuffle(x)\n",
    "        random.shuffle(y)  \n",
    "        plt.scatter(x, y)\n",
    "    plt.show()\n",
    "    \n",
    "\n",
    "res = randn2d([10,4,32], [1, 5, 20], [.3, .3, 2.1], [1, 11, 9], [.3, 0.1, 0.7], draw=\"yes\")\n"
   ]
  },
  {
   "cell_type": "code",
   "execution_count": 47,
   "metadata": {
    "cell_id": "f3c5b7c3264149a19e10f15b8cfa348a",
    "deepnote_cell_type": "code"
   },
   "outputs": [
    {
     "data": {
      "image/png": "[encoded data removed]",
      "text/plain": [
       "<Figure size 640x480 with 1 Axes>"
      ]
     },
     "metadata": {},
     "output_type": "display_data"
    },
    {
     "name": "stdout",
     "output_type": "stream",
     "text": [
      "None\n"
     ]
    }
   ],
   "source": [
    "def randn2d(n, mu1, sigma1, mu2, sigma2, draw):\n",
    "    # generate a random array with 2 columns\n",
    "    # n[i] is the number of rows from cluster i\n",
    "    # the first coordinate of elements from cluster i are generated from N(mu1[i],sigma1[i])\n",
    "    # the second coordinate of elements from cluster i are generated from N(mu2[i],sigma2[i])\n",
    "    # the retured array has shuffled rows\n",
    "    # YOUR CODE GOES HERE \n",
    "    \n",
    "    colors= [\"blue\",\"green\",\"orange\"]\n",
    "    vec = np.array([0,0])\n",
    "    for i in range(len(n)):\n",
    "        for item in range(n[i]):\n",
    "            x = np.random.normal(mu1[i], sigma1[i])\n",
    "            y = np.random.normal(mu2[i], sigma2[i])\n",
    "            coord = np.array([x,y])\n",
    "            if draw==\"yes\":\n",
    "                plt.scatter(x,y, c=colors[i], label= f\"Cluster({mu1[i]},{mu2[i]})\" if item == 0 else None)\n",
    "\n",
    "        vec = np.vstack([vec,coord])\n",
    "\n",
    "    vec = vec[1:]\n",
    "\n",
    "    if draw==\"yes\":\n",
    "        plt.legend()\n",
    "        plt.show()\n",
    "\n",
    "    np.random.shuffle(vec)\n",
    "    return vec\n",
    "\n",
    "res = randn2d([10,4,32], [1, 5, 20], [.3, .3, 2.1], [1, 11, 9], [.3, 0.1, 0.7], draw=\"yes\")"
   ]
  },
  {
   "cell_type": "code",
   "execution_count": 47,
   "metadata": {
    "cell_id": "f3c5b7c3264149a19e10f15b8cfa348a",
    "deepnote_cell_type": "code"
   },
   "outputs": [
    {
     "data": {
      "image/png": "[encoded data removed]",
      "text/plain": [
       "<Figure size 640x480 with 1 Axes>"
      ]
     },
     "metadata": {},
     "output_type": "display_data"
    },
    {
     "name": "stdout",
     "output_type": "stream",
     "text": [
      "None\n"
     ]
    }
   ],
   "source": [
    "from typing import Literal\n",
    "\n",
    "\n",
    "def randn2d(\n",
    "    n: list[float],\n",
    "    mu1: list[float],\n",
    "    sigma1: list[float],\n",
    "    mu2: list[float],\n",
    "    sigma2: list[float],\n",
    "    draw: Literal[\"yes\", \"no\"],\n",
    ") -> np.ndarray:\n",
    "    # generate a random array with 2 columns\n",
    "    # n[i] is the number of rows from cluster i\n",
    "    # the first coordinate of elements from cluster i are generated from N(mu1[i],sigma1[i])\n",
    "    # the second coordinate of elements from cluster i are generated from N(mu2[i],sigma2[i])\n",
    "    # the retured array has shuffled rows\n",
    "    # YOUR CODE GOES HERE\n",
    "    clusters = [\n",
    "        np.c_[\n",
    "            np.random.normal(mu1[i], sigma1[i], size=n[i]),\n",
    "            np.random.normal(mu2[i], sigma2[i], size=n[i]),\n",
    "        ]\n",
    "        for i in range(len(n))\n",
    "    ]\n",
    "\n",
    "    if draw == \"yes\":\n",
    "        for i, cluster in enumerate(clusters):\n",
    "            plt.scatter(\n",
    "                x=cluster[:, 0],\n",
    "                y=cluster[:, 1],\n",
    "                label=f\"Cluster: ({mu1[i]}, {mu2[i]})\",\n",
    "            )\n",
    "        plt.legend() \n",
    "        plt.show()\n",
    "\n",
    "    data_points = np.vstack(clusters) # np.r_[*clusters]\n",
    "    np.random.shuffle(data_points)\n",
    "    return data_points\n",
    "\n",
    "\n",
    "res = randn2d(\n",
    "    [10, 4, 32],\n",
    "    [1, 5, 20],\n",
    "    [0.3, 0.3, 2.1],\n",
    "    [1, 11, 9],\n",
    "    [0.3, 0.1, 0.7],\n",
    "    draw=\"yes\",\n",
    ")"
   ]
  },
  {
   "cell_type": "markdown",
   "metadata": {
    "cell_id": "44bd88513ac044f4af8bf5d15f0fd8a8",
    "deepnote_cell_type": "markdown"
   },
   "source": [
    "## Generating a Sample from Data\n",
    "\n",
    "Write a function `selectk(x,k)` randomly selecting `k` rows from the input matrix `x`."
   ]
  },
  {
   "cell_type": "code",
   "execution_count": 40,
   "metadata": {
    "cell_id": "07270d404acc4fe0b4826eff9a0a1000",
    "deepnote_cell_type": "code",
    "tags": []
   },
   "outputs": [],
   "source": [
    "def selectk(x, k):\n",
    "    # YOUR CODE GOES HERE \n",
    "    #index_rows = np.random.randint(len(x), dtype=int, size=k, replace=False)\n",
    "    index_rows = np.random.choice(range(len(x)), k, replace=False) if k < len(x) else np.random.randint(len(x), dtype=int, size=k)\n",
    "    return x[index_rows]"
   ]
  },
  {
   "cell_type": "code",
   "execution_count": 34,
   "metadata": {},
   "outputs": [
    {
     "data": {
      "text/plain": [
       "array([6, 4, 7, 3])"
      ]
     },
     "execution_count": 34,
     "metadata": {},
     "output_type": "execute_result"
    }
   ],
   "source": []
  },
  {
   "cell_type": "code",
   "execution_count": 29,
   "metadata": {
    "cell_id": "90f5e567c0c94b13a250679d4db5912c",
    "deepnote_cell_type": "code",
    "tags": []
   },
   "outputs": [
    {
     "name": "stdout",
     "output_type": "stream",
     "text": [
      "[[ 3.57656758 -0.42183976  0.10294559]\n",
      " [-2.21107984  4.29344752  4.05787589]\n",
      " [ 0.99090319  4.16033289  1.18700361]\n",
      " [ 2.90261747  3.85332506  2.29722734]\n",
      " [ 1.49056235  3.49614838  6.90008719]\n",
      " [ 2.42150122  7.82489388  1.44408132]\n",
      " [ 3.31178159  6.19570015  0.69672232]\n",
      " [ 0.21700401  3.52394999  7.47044872]\n",
      " [-1.4059007   8.96401735  5.37579975]\n",
      " [ 3.21924445  2.59599587  4.89990817]]\n"
     ]
    }
   ],
   "source": [
    "x = np.random.normal(3, 2.5, size=(10,3))\n",
    "len(x)\n",
    "print(x)"
   ]
  },
  {
   "cell_type": "markdown",
   "metadata": {
    "cell_id": "b27107653ebd4c8d9583000a0d2a3563",
    "deepnote_cell_type": "markdown"
   },
   "source": [
    "Demonstrate your implementation on a randomly generated matrix with two columns. Plot the original and selected column vectors as points on a plane. Distinguish not selected and selected data with different colors or marks."
   ]
  },
  {
   "cell_type": "code",
   "execution_count": 42,
   "metadata": {
    "cell_id": "a7812e8b82a34bafb93abbe1835e4558",
    "deepnote_cell_type": "code",
    "tags": []
   },
   "outputs": [
    {
     "data": {
      "text/plain": [
       "array([[-2.21107984,  4.29344752,  4.05787589],\n",
       "       [ 3.21924445,  2.59599587,  4.89990817],\n",
       "       [ 3.31178159,  6.19570015,  0.69672232],\n",
       "       [ 1.49056235,  3.49614838,  6.90008719]])"
      ]
     },
     "execution_count": 42,
     "metadata": {},
     "output_type": "execute_result"
    }
   ],
   "source": [
    "selectk(x,4)"
   ]
  },
  {
   "cell_type": "markdown",
   "metadata": {
    "cell_id": "e5d14f14564941079c32dd96669557d6",
    "deepnote_cell_type": "markdown"
   },
   "source": [
    "The module `scikit-learn` contains a suitable function `train_test_split`, for randomly splitting data into training and test sets. How can we ensure that the splitting is done in the same way when we repeat the splitting?"
   ]
  },
  {
   "cell_type": "code",
   "execution_count": 25,
   "metadata": {
    "cell_id": "6b9beb1af49948a79207b9bf5f471a46",
    "deepnote_cell_type": "code",
    "tags": []
   },
   "outputs": [
    {
     "name": "stdout",
     "output_type": "stream",
     "text": [
      "train:\n",
      " [[ 1.52524067  5.68866167  6.1891253 ]\n",
      " [ 6.28167299  6.93195024  0.93931037]\n",
      " [-1.23856017  2.95816895 -0.91488327]\n",
      " [ 7.74183357  3.65164477  3.45274558]\n",
      " [ 3.86513622  4.69672024 -2.7056726 ]\n",
      " [ 5.39491213 -1.21099424  0.47254597]\n",
      " [-0.12362102  0.68195703  2.03614053]]\n",
      "test:\n",
      " [[ 2.38034566  2.59367591  4.84502959]\n",
      " [ 0.15562227 -0.58803172  3.2370094 ]\n",
      " [ 2.18831871  4.53196754  0.26548264]]\n"
     ]
    }
   ],
   "source": [
    "from sklearn.model_selection import train_test_split\n",
    "\n",
    "train, test = train_test_split(x)\n",
    "print(\"train:\\n\", train)\n",
    "print(\"test:\\n\", test)"
   ]
  },
  {
   "cell_type": "markdown",
   "metadata": {
    "cell_id": "47dc313c14d64377be6ed34682c20ace",
    "deepnote_cell_type": "markdown"
   },
   "source": [
    "We can use a parameter `random_state` to ensure that the splitting is done in the same way. "
   ]
  },
  {
   "cell_type": "code",
   "execution_count": 26,
   "metadata": {
    "cell_id": "b8b7c65dc1e8455894b5a66a7df5c0a0",
    "deepnote_cell_type": "code",
    "tags": []
   },
   "outputs": [
    {
     "name": "stdout",
     "output_type": "stream",
     "text": [
      "train:\n",
      " [[ 2.18831871  4.53196754  0.26548264]\n",
      " [ 5.39491213 -1.21099424  0.47254597]\n",
      " [-1.23856017  2.95816895 -0.91488327]\n",
      " [ 2.38034566  2.59367591  4.84502959]\n",
      " [ 0.15562227 -0.58803172  3.2370094 ]\n",
      " [ 3.86513622  4.69672024 -2.7056726 ]\n",
      " [ 6.28167299  6.93195024  0.93931037]]\n",
      "test:\n",
      " [[-0.12362102  0.68195703  2.03614053]\n",
      " [ 7.74183357  3.65164477  3.45274558]\n",
      " [ 1.52524067  5.68866167  6.1891253 ]]\n"
     ]
    }
   ],
   "source": [
    "train, test = train_test_split(x, random_state=12345)\n",
    "print(\"train:\\n\", train)\n",
    "print(\"test:\\n\", test)"
   ]
  },
  {
   "cell_type": "code",
   "execution_count": 27,
   "metadata": {
    "cell_id": "addaaaeadfa74284b56b340db9391a05",
    "deepnote_cell_type": "code",
    "tags": []
   },
   "outputs": [
    {
     "name": "stdout",
     "output_type": "stream",
     "text": [
      "train:\n",
      " [[-1.23856017  2.95816895 -0.91488327]\n",
      " [ 2.38034566  2.59367591  4.84502959]\n",
      " [ 0.15562227 -0.58803172  3.2370094 ]\n",
      " [ 3.86513622  4.69672024 -2.7056726 ]\n",
      " [ 6.28167299  6.93195024  0.93931037]]\n",
      "test:\n",
      " [[-0.12362102  0.68195703  2.03614053]\n",
      " [ 7.74183357  3.65164477  3.45274558]\n",
      " [ 1.52524067  5.68866167  6.1891253 ]\n",
      " [ 2.18831871  4.53196754  0.26548264]\n",
      " [ 5.39491213 -1.21099424  0.47254597]]\n"
     ]
    }
   ],
   "source": [
    "train, test = train_test_split(x, test_size=0.5, random_state=12345)\n",
    "print(\"train:\\n\", train)\n",
    "print(\"test:\\n\", test)"
   ]
  },
  {
   "cell_type": "code",
   "execution_count": null,
   "metadata": {
    "cell_id": "22b866ab4dbd4b8d8fd6508f35e24aed",
    "deepnote_cell_type": "code"
   },
   "outputs": [],
   "source": []
  },
  {
   "cell_type": "markdown",
   "metadata": {
    "created_in_deepnote_cell": true,
    "deepnote_cell_type": "markdown"
   },
   "source": [
    "<a style='text-decoration:none;line-height:16px;display:flex;color:#5B5B62;padding:10px;justify-content:end;' href='https://deepnote.com?utm_source=created-in-deepnote-cell&projectId=9929afe7-c5d8-43d3-8759-787eba3dd7ff' target=\"_blank\">\n",
    "<img alt='Created in deepnote.com' style='display:inline;max-height:16px;margin:0px;margin-right:7.5px;' src='data:image/svg+xml;base64,PD94bWwgdmVyc2lvbj0iMS4wIiBlbmNvZGluZz0iVVRGLTgiPz4KPHN2ZyB3aWR0aD0iODBweCIgaGVpZ2h0PSI4MHB4IiB2aWV3Qm94PSIwIDAgODAgODAiIHZlcnNpb249IjEuMSIgeG1sbnM9Imh0dHA6Ly93d3cudzMub3JnLzIwMDAvc3ZnIiB4bWxuczp4bGluaz0iaHR0cDovL3d3dy53My5vcmcvMTk5OS94bGluayI+CiAgICA8IS0tIEdlbmVyYXRvcjogU2tldGNoIDU0LjEgKDc2NDkwKSAtIGh0dHBzOi8vc2tldGNoYXBwLmNvbSAtLT4KICAgIDx0aXRsZT5Hcm91cCAzPC90aXRsZT4KICAgIDxkZXNjPkNyZWF0ZWQgd2l0aCBTa2V0Y2guPC9kZXNjPgogICAgPGcgaWQ9IkxhbmRpbmciIHN0cm9rZT0ibm9uZSIgc3Ryb2tlLXdpZHRoPSIxIiBmaWxsPSJub25lIiBmaWxsLXJ1bGU9ImV2ZW5vZGQiPgogICAgICAgIDxnIGlkPSJBcnRib2FyZCIgdHJhbnNmb3JtPSJ0cmFuc2xhdGUoLTEyMzUuMDAwMDAwLCAtNzkuMDAwMDAwKSI+CiAgICAgICAgICAgIDxnIGlkPSJHcm91cC0zIiB0cmFuc2Zvcm09InRyYW5zbGF0ZSgxMjM1LjAwMDAwMCwgNzkuMDAwMDAwKSI+CiAgICAgICAgICAgICAgICA8cG9seWdvbiBpZD0iUGF0aC0yMCIgZmlsbD0iIzAyNjVCNCIgcG9pbnRzPSIyLjM3NjIzNzYyIDgwIDM4LjA0NzY2NjcgODAgNTcuODIxNzgyMiA3My44MDU3NTkyIDU3LjgyMTc4MjIgMzIuNzU5MjczOSAzOS4xNDAyMjc4IDMxLjY4MzE2ODMiPjwvcG9seWdvbj4KICAgICAgICAgICAgICAgIDxwYXRoIGQ9Ik0zNS4wMDc3MTgsODAgQzQyLjkwNjIwMDcsNzYuNDU0OTM1OCA0Ny41NjQ5MTY3LDcxLjU0MjI2NzEgNDguOTgzODY2LDY1LjI2MTk5MzkgQzUxLjExMjI4OTksNTUuODQxNTg0MiA0MS42NzcxNzk1LDQ5LjIxMjIyODQgMjUuNjIzOTg0Niw0OS4yMTIyMjg0IEMyNS40ODQ5Mjg5LDQ5LjEyNjg0NDggMjkuODI2MTI5Niw0My4yODM4MjQ4IDM4LjY0NzU4NjksMzEuNjgzMTY4MyBMNzIuODcxMjg3MSwzMi41NTQ0MjUgTDY1LjI4MDk3Myw2Ny42NzYzNDIxIEw1MS4xMTIyODk5LDc3LjM3NjE0NCBMMzUuMDA3NzE4LDgwIFoiIGlkPSJQYXRoLTIyIiBmaWxsPSIjMDAyODY4Ij48L3BhdGg+CiAgICAgICAgICAgICAgICA8cGF0aCBkPSJNMCwzNy43MzA0NDA1IEwyNy4xMTQ1MzcsMC4yNTcxMTE0MzYgQzYyLjM3MTUxMjMsLTEuOTkwNzE3MDEgODAsMTAuNTAwMzkyNyA4MCwzNy43MzA0NDA1IEM4MCw2NC45NjA0ODgyIDY0Ljc3NjUwMzgsNzkuMDUwMzQxNCAzNC4zMjk1MTEzLDgwIEM0Ny4wNTUzNDg5LDc3LjU2NzA4MDggNTMuNDE4MjY3Nyw3MC4zMTM2MTAzIDUzLjQxODI2NzcsNTguMjM5NTg4NSBDNTMuNDE4MjY3Nyw0MC4xMjg1NTU3IDM2LjMwMzk1NDQsMzcuNzMwNDQwNSAyNS4yMjc0MTcsMzcuNzMwNDQwNSBDMTcuODQzMDU4NiwzNy43MzA0NDA1IDkuNDMzOTE5NjYsMzcuNzMwNDQwNSAwLDM3LjczMDQ0MDUgWiIgaWQ9IlBhdGgtMTkiIGZpbGw9IiMzNzkzRUYiPjwvcGF0aD4KICAgICAgICAgICAgPC9nPgogICAgICAgIDwvZz4KICAgIDwvZz4KPC9zdmc+' > </img>\n",
    "Created in <span style='font-weight:600;margin-left:4px;'>Deepnote</span></a>"
   ]
  }
 ],
 "metadata": {
  "deepnote": {},
  "deepnote_execution_queue": [],
  "deepnote_notebook_id": "cd3d0c72d4374698a4f3f592810bc697",
  "kernelspec": {
   "display_name": "Python 3 (ipykernel)",
   "language": "python",
   "name": "python3"
  },
  "language_info": {
   "codemirror_mode": {
    "name": "ipython",
    "version": 3
   },
   "file_extension": ".py",
   "mimetype": "text/x-python",
   "name": "python",
   "nbconvert_exporter": "python",
   "pygments_lexer": "ipython3",
   "version": "3.11.5"
  }
 },
 "nbformat": 4,
 "nbformat_minor": 4
}
