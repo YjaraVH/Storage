{
 "cells": [
  {
   "cell_type": "code",
   "execution_count": 16,
   "id": "778ccc5c-bf3f-4b32-b2a0-db9268f14217",
   "metadata": {},
   "outputs": [
    {
     "name": "stdout",
     "output_type": "stream",
     "text": [
      "Mean absolute deviation is : 3.6817870057290873\n",
      "Variance is:  13.555555555555557\n",
      "mean : 5.333333333333333\n",
      "mad is:  3.1111111111111107\n"
     ]
    }
   ],
   "source": [
    "X = [1,5,10,10,5,1]\n",
    "mean = sum(X)/len(X)\n",
    "# abs is an absolute difference. Difference of 4-6 = -2. Absolute difference of 4-6 = 2\n",
    "mad = sum(abs(x - mean) for x in X) / len(X)\n",
    "var = (sum((x - mean) ** 2 for x in X)) / len(X)\n",
    "st = math.sqrt(var)\n",
    "print(\"Mean absolute deviation is :\", st)\n",
    "print(\"Variance is: \", var)\n",
    "print(\"mean :\", mean)\n",
    "print(\"mad is: \", mad)"
   ]
  },
  {
   "cell_type": "code",
   "execution_count": null,
   "id": "dd33f499-c6a9-4932-b962-e05fad81d85b",
   "metadata": {},
   "outputs": [],
   "source": [
    "# Data set\n",
    "X = []\n",
    "# Mean, average\n",
    "mean = sum(X)/len(X)\n",
    "\n",
    "# Mean absolute deviation. ABS: absolute difference (difference between two values)\n",
    "# To express data dispersion\n",
    "# !biased estimator\n",
    "mad = sum(abs(x - mean) for x in X / len(X))\n",
    "\n",
    "# Variance. The sum of the data minus the mean ** 2. Divided by n (total number of points)\n",
    "var = (sum((x - mean)** 2 for x in X)) / len(X)\n",
    "\n",
    "# Standard deviation\n",
    "st = math.sqrt(var)"
   ]
  },
  {
   "cell_type": "code",
   "execution_count": null,
   "id": "372d2ff8-786a-47f3-a4f0-5c78ab72fab4",
   "metadata": {
    "jupyter": {
     "source_hidden": true
    }
   },
   "outputs": [],
   "source": []
  },
  {
   "cell_type": "code",
   "execution_count": 1,
   "id": "288578ae-e2ee-406c-96ce-c49c623ba520",
   "metadata": {
    "jupyter": {
     "source_hidden": true
    }
   },
   "outputs": [],
   "source": [
    "import math"
   ]
  },
  {
   "cell_type": "code",
   "execution_count": null,
   "id": "50da4a18-7c9f-4545-ab52-66f9b490b596",
   "metadata": {
    "jupyter": {
     "source_hidden": true
    }
   },
   "outputs": [],
   "source": [
    "import statistics\n",
    "mean = statistics.mean(your_set_of_numbers)"
   ]
  },
  {
   "cell_type": "code",
   "execution_count": 9,
   "id": "b181c59f-ad95-4fef-bac9-d9051e7be1a9",
   "metadata": {},
   "outputs": [
    {
     "name": "stdout",
     "output_type": "stream",
     "text": [
      "Mean absolute deviation is : 6.0\n",
      "Variance is:  50\n"
     ]
    }
   ],
   "source": [
    "from statistics import pvariance\n",
    "from numpy import absolute, mean\n",
    "\n",
    "# Mean average deviation isn't in a standard library.\n",
    "# So we define it below.\n",
    "\n",
    "def mean_ad(data):\n",
    "    return mean(absolute(data - mean(data)))\n",
    "\n",
    "data = [5,10,15,20,25]\n",
    " \n",
    "print(\"Mean absolute deviation is :\", round(mean_ad(data),5))\n",
    "print(\"Variance is: \", round(pvariance(data),5))"
   ]
  },
  {
   "cell_type": "code",
   "execution_count": null,
   "id": "67d55fac-087f-402a-98ed-eebc151156db",
   "metadata": {},
   "outputs": [],
   "source": [
    "import math\n",
    "\n",
    "n = 5  # Total number of items\n",
    "k = 2  # Number of items to choose\n",
    "\n",
    "combination = math.comb(n, k)\n",
    "print(combination)"
   ]
  }
 ],
 "metadata": {
  "kernelspec": {
   "display_name": "Python 3 (ipykernel)",
   "language": "python",
   "name": "python3"
  },
  "language_info": {
   "codemirror_mode": {
    "name": "ipython",
    "version": 3
   },
   "file_extension": ".py",
   "mimetype": "text/x-python",
   "name": "python",
   "nbconvert_exporter": "python",
   "pygments_lexer": "ipython3",
   "version": "3.11.5"
  }
 },
 "nbformat": 4,
 "nbformat_minor": 5
}
